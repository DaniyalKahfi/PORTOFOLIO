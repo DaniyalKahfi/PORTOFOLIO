{
 "cells": [
  {
   "cell_type": "markdown",
   "metadata": {},
   "source": [
    "# I. IMPORT LIBRARIES"
   ]
  },
  {
   "cell_type": "code",
   "execution_count": 1,
   "metadata": {},
   "outputs": [],
   "source": [
    "import pandas as pd\n",
    "import seaborn as sns\n",
    "import sklearn\n",
    "import numpy as np\n",
    "import matplotlib.pyplot as plt\n",
    "from scipy.stats import f_oneway\n",
    "from sklearn.model_selection import train_test_split\n",
    "from feature_engine.outliers import Winsorizer\n",
    "from sklearn.metrics import r2_score\n",
    "from scipy.stats import chi2_contingency\n",
    "from scipy.stats import spearmanr\n",
    "from sklearn.compose import ColumnTransformer\n",
    "from sklearn.compose import ColumnTransformer, make_column_selector as selector\n",
    "from sklearn.preprocessing import MinMaxScaler\n",
    "from sklearn.preprocessing import OrdinalEncoder\n",
    "from sklearn.pipeline import Pipeline\n",
    "from sklearn.ensemble import RandomForestRegressor\n",
    "from sklearn.tree import DecisionTreeRegressor\n",
    "from sklearn.neighbors import KNeighborsRegressor\n",
    "from sklearn.svm import SVR\n",
    "from xgboost import XGBRegressor\n",
    "from sklearn.model_selection import cross_val_score\n",
    "from sklearn.metrics import mean_squared_error\n",
    "from sklearn.model_selection import GridSearchCV\n"
   ]
  },
  {
   "cell_type": "markdown",
   "metadata": {},
   "source": [
    "# II. DATA LOADING"
   ]
  },
  {
   "cell_type": "markdown",
   "metadata": {},
   "source": [
    "Taken dataset sourced from https://www.kaggle.com/datasets/turkibintalib/saudi-arabia-used-cars-dataset"
   ]
  },
  {
   "cell_type": "code",
   "execution_count": 2,
   "metadata": {},
   "outputs": [
    {
     "data": {
      "text/html": [
       "<div>\n",
       "<style scoped>\n",
       "    .dataframe tbody tr th:only-of-type {\n",
       "        vertical-align: middle;\n",
       "    }\n",
       "\n",
       "    .dataframe tbody tr th {\n",
       "        vertical-align: top;\n",
       "    }\n",
       "\n",
       "    .dataframe thead th {\n",
       "        text-align: right;\n",
       "    }\n",
       "</style>\n",
       "<table border=\"1\" class=\"dataframe\">\n",
       "  <thead>\n",
       "    <tr style=\"text-align: right;\">\n",
       "      <th></th>\n",
       "      <th>Make</th>\n",
       "      <th>Type</th>\n",
       "      <th>Year</th>\n",
       "      <th>Origin</th>\n",
       "      <th>Color</th>\n",
       "      <th>Options</th>\n",
       "      <th>Engine_Size</th>\n",
       "      <th>Fuel_Type</th>\n",
       "      <th>Gear_Type</th>\n",
       "      <th>Mileage</th>\n",
       "      <th>Region</th>\n",
       "      <th>Price</th>\n",
       "      <th>Negotiable</th>\n",
       "    </tr>\n",
       "  </thead>\n",
       "  <tbody>\n",
       "    <tr>\n",
       "      <th>0</th>\n",
       "      <td>Chrysler</td>\n",
       "      <td>C300</td>\n",
       "      <td>2018</td>\n",
       "      <td>Saudi</td>\n",
       "      <td>Black</td>\n",
       "      <td>Full</td>\n",
       "      <td>5.7</td>\n",
       "      <td>Gas</td>\n",
       "      <td>Automatic</td>\n",
       "      <td>103000</td>\n",
       "      <td>Riyadh</td>\n",
       "      <td>114000</td>\n",
       "      <td>False</td>\n",
       "    </tr>\n",
       "    <tr>\n",
       "      <th>1</th>\n",
       "      <td>Nissan</td>\n",
       "      <td>Patrol</td>\n",
       "      <td>2016</td>\n",
       "      <td>Saudi</td>\n",
       "      <td>White</td>\n",
       "      <td>Full</td>\n",
       "      <td>4.8</td>\n",
       "      <td>Gas</td>\n",
       "      <td>Automatic</td>\n",
       "      <td>5448</td>\n",
       "      <td>Riyadh</td>\n",
       "      <td>0</td>\n",
       "      <td>True</td>\n",
       "    </tr>\n",
       "    <tr>\n",
       "      <th>2</th>\n",
       "      <td>Nissan</td>\n",
       "      <td>Sunny</td>\n",
       "      <td>2019</td>\n",
       "      <td>Saudi</td>\n",
       "      <td>Silver</td>\n",
       "      <td>Standard</td>\n",
       "      <td>1.5</td>\n",
       "      <td>Gas</td>\n",
       "      <td>Automatic</td>\n",
       "      <td>72418</td>\n",
       "      <td>Riyadh</td>\n",
       "      <td>27500</td>\n",
       "      <td>False</td>\n",
       "    </tr>\n",
       "    <tr>\n",
       "      <th>3</th>\n",
       "      <td>Hyundai</td>\n",
       "      <td>Elantra</td>\n",
       "      <td>2019</td>\n",
       "      <td>Saudi</td>\n",
       "      <td>Grey</td>\n",
       "      <td>Standard</td>\n",
       "      <td>1.6</td>\n",
       "      <td>Gas</td>\n",
       "      <td>Automatic</td>\n",
       "      <td>114154</td>\n",
       "      <td>Riyadh</td>\n",
       "      <td>43000</td>\n",
       "      <td>False</td>\n",
       "    </tr>\n",
       "    <tr>\n",
       "      <th>4</th>\n",
       "      <td>Hyundai</td>\n",
       "      <td>Elantra</td>\n",
       "      <td>2019</td>\n",
       "      <td>Saudi</td>\n",
       "      <td>Silver</td>\n",
       "      <td>Semi Full</td>\n",
       "      <td>2.0</td>\n",
       "      <td>Gas</td>\n",
       "      <td>Automatic</td>\n",
       "      <td>41912</td>\n",
       "      <td>Riyadh</td>\n",
       "      <td>59500</td>\n",
       "      <td>False</td>\n",
       "    </tr>\n",
       "    <tr>\n",
       "      <th>...</th>\n",
       "      <td>...</td>\n",
       "      <td>...</td>\n",
       "      <td>...</td>\n",
       "      <td>...</td>\n",
       "      <td>...</td>\n",
       "      <td>...</td>\n",
       "      <td>...</td>\n",
       "      <td>...</td>\n",
       "      <td>...</td>\n",
       "      <td>...</td>\n",
       "      <td>...</td>\n",
       "      <td>...</td>\n",
       "      <td>...</td>\n",
       "    </tr>\n",
       "    <tr>\n",
       "      <th>8030</th>\n",
       "      <td>Audi</td>\n",
       "      <td>A6</td>\n",
       "      <td>2015</td>\n",
       "      <td>Saudi</td>\n",
       "      <td>Silver</td>\n",
       "      <td>Full</td>\n",
       "      <td>3.0</td>\n",
       "      <td>Gas</td>\n",
       "      <td>Automatic</td>\n",
       "      <td>77000</td>\n",
       "      <td>Riyadh</td>\n",
       "      <td>75000</td>\n",
       "      <td>False</td>\n",
       "    </tr>\n",
       "    <tr>\n",
       "      <th>8031</th>\n",
       "      <td>Chevrolet</td>\n",
       "      <td>Camaro</td>\n",
       "      <td>2010</td>\n",
       "      <td>Saudi</td>\n",
       "      <td>Silver</td>\n",
       "      <td>Full</td>\n",
       "      <td>3.6</td>\n",
       "      <td>Gas</td>\n",
       "      <td>Automatic</td>\n",
       "      <td>150000</td>\n",
       "      <td>Riyadh</td>\n",
       "      <td>53000</td>\n",
       "      <td>False</td>\n",
       "    </tr>\n",
       "    <tr>\n",
       "      <th>8032</th>\n",
       "      <td>Toyota</td>\n",
       "      <td>Land Cruiser</td>\n",
       "      <td>2013</td>\n",
       "      <td>Gulf Arabic</td>\n",
       "      <td>White</td>\n",
       "      <td>Full</td>\n",
       "      <td>4.6</td>\n",
       "      <td>Gas</td>\n",
       "      <td>Automatic</td>\n",
       "      <td>260</td>\n",
       "      <td>Najran</td>\n",
       "      <td>0</td>\n",
       "      <td>True</td>\n",
       "    </tr>\n",
       "    <tr>\n",
       "      <th>8033</th>\n",
       "      <td>Nissan</td>\n",
       "      <td>Altima</td>\n",
       "      <td>2011</td>\n",
       "      <td>Saudi</td>\n",
       "      <td>Silver</td>\n",
       "      <td>Full</td>\n",
       "      <td>2.5</td>\n",
       "      <td>Gas</td>\n",
       "      <td>Automatic</td>\n",
       "      <td>18500</td>\n",
       "      <td>Aseer</td>\n",
       "      <td>22000</td>\n",
       "      <td>False</td>\n",
       "    </tr>\n",
       "    <tr>\n",
       "      <th>8034</th>\n",
       "      <td>Cadillac</td>\n",
       "      <td>Other</td>\n",
       "      <td>2013</td>\n",
       "      <td>Saudi</td>\n",
       "      <td>White</td>\n",
       "      <td>Full</td>\n",
       "      <td>3.6</td>\n",
       "      <td>Gas</td>\n",
       "      <td>Automatic</td>\n",
       "      <td>256000</td>\n",
       "      <td>Al-Medina</td>\n",
       "      <td>40000</td>\n",
       "      <td>False</td>\n",
       "    </tr>\n",
       "  </tbody>\n",
       "</table>\n",
       "<p>8035 rows × 13 columns</p>\n",
       "</div>"
      ],
      "text/plain": [
       "           Make          Type  Year       Origin   Color    Options  \\\n",
       "0      Chrysler          C300  2018        Saudi   Black       Full   \n",
       "1        Nissan        Patrol  2016        Saudi   White       Full   \n",
       "2        Nissan         Sunny  2019        Saudi  Silver   Standard   \n",
       "3       Hyundai       Elantra  2019        Saudi    Grey   Standard   \n",
       "4       Hyundai       Elantra  2019        Saudi  Silver  Semi Full   \n",
       "...         ...           ...   ...          ...     ...        ...   \n",
       "8030       Audi            A6  2015        Saudi  Silver       Full   \n",
       "8031  Chevrolet        Camaro  2010        Saudi  Silver       Full   \n",
       "8032     Toyota  Land Cruiser  2013  Gulf Arabic   White       Full   \n",
       "8033     Nissan        Altima  2011        Saudi  Silver       Full   \n",
       "8034   Cadillac         Other  2013        Saudi   White       Full   \n",
       "\n",
       "      Engine_Size Fuel_Type  Gear_Type  Mileage     Region   Price  Negotiable  \n",
       "0             5.7       Gas  Automatic   103000     Riyadh  114000       False  \n",
       "1             4.8       Gas  Automatic     5448     Riyadh       0        True  \n",
       "2             1.5       Gas  Automatic    72418     Riyadh   27500       False  \n",
       "3             1.6       Gas  Automatic   114154     Riyadh   43000       False  \n",
       "4             2.0       Gas  Automatic    41912     Riyadh   59500       False  \n",
       "...           ...       ...        ...      ...        ...     ...         ...  \n",
       "8030          3.0       Gas  Automatic    77000     Riyadh   75000       False  \n",
       "8031          3.6       Gas  Automatic   150000     Riyadh   53000       False  \n",
       "8032          4.6       Gas  Automatic      260     Najran       0        True  \n",
       "8033          2.5       Gas  Automatic    18500      Aseer   22000       False  \n",
       "8034          3.6       Gas  Automatic   256000  Al-Medina   40000       False  \n",
       "\n",
       "[8035 rows x 13 columns]"
      ]
     },
     "execution_count": 2,
     "metadata": {},
     "output_type": "execute_result"
    }
   ],
   "source": [
    "data = pd.read_csv('UsedCarsSA.csv')\n",
    "df = pd.DataFrame(data)\n",
    "df"
   ]
  },
  {
   "cell_type": "markdown",
   "metadata": {},
   "source": [
    "**Attributes Information**\n",
    "\n",
    "| **Attribute** | **Data Type** | **Description** |\n",
    "| --- | --- | --- |\n",
    "| Make | Object | Car brand |\n",
    "| Type | Object | Car-type brand |\n",
    "| Year | Integer | Year of car manufacture |\n",
    "| Origin | Object | Car importing country (Gulf / Saudi / Other / Unknown) |\n",
    "| Color | Object | car color|\n",
    "| Options | Object | Option used (Full Options / Semi-Full / Standard) |\n",
    "| Engine_Size | Float | Car engine size |\n",
    "| Fuel Type | Object | Fuel type|\n",
    "| Gear_Type | Object | Type of gear used (Automatic / Manual) |\n",
    "| Mileage | Integer |Distance traveled by vehicle (KM) |\n",
    "| Region | Object | Used car sales area |\n",
    "| Price | Integer | Used car prices (SAR) |\n",
    "| Negotiable | Boolean | If True, then the price is 0 because the price is determined through negotiation | <br>\n",
    "\n",
    "`Price` will be the label or target column to be predicted (dependent variable), and the other column will be predictor variable / independent variable which will predict `Price`."
   ]
  },
  {
   "cell_type": "markdown",
   "metadata": {},
   "source": [
    "## 2.1 Column Information"
   ]
  },
  {
   "cell_type": "code",
   "execution_count": 3,
   "metadata": {},
   "outputs": [
    {
     "name": "stdout",
     "output_type": "stream",
     "text": [
      "<class 'pandas.core.frame.DataFrame'>\n",
      "RangeIndex: 8035 entries, 0 to 8034\n",
      "Data columns (total 13 columns):\n",
      " #   Column       Non-Null Count  Dtype  \n",
      "---  ------       --------------  -----  \n",
      " 0   Make         8035 non-null   object \n",
      " 1   Type         8035 non-null   object \n",
      " 2   Year         8035 non-null   int64  \n",
      " 3   Origin       8035 non-null   object \n",
      " 4   Color        8035 non-null   object \n",
      " 5   Options      8035 non-null   object \n",
      " 6   Engine_Size  8035 non-null   float64\n",
      " 7   Fuel_Type    8035 non-null   object \n",
      " 8   Gear_Type    8035 non-null   object \n",
      " 9   Mileage      8035 non-null   int64  \n",
      " 10  Region       8035 non-null   object \n",
      " 11  Price        8035 non-null   int64  \n",
      " 12  Negotiable   8035 non-null   bool   \n",
      "dtypes: bool(1), float64(1), int64(3), object(8)\n",
      "memory usage: 761.3+ KB\n"
     ]
    }
   ],
   "source": [
    "#Column Information Check\n",
    "df.info()"
   ]
  },
  {
   "cell_type": "markdown",
   "metadata": {},
   "source": [
    "From the information above, we can see that this dataset consists of 13 columns, column names, along with each data type (8 object, 3 integer, 1 float, 1 boolean)."
   ]
  },
  {
   "cell_type": "markdown",
   "metadata": {},
   "source": [
    "## 2.2 Adjust Columns' Name"
   ]
  },
  {
   "cell_type": "code",
   "execution_count": 4,
   "metadata": {},
   "outputs": [
    {
     "data": {
      "text/html": [
       "<div>\n",
       "<style scoped>\n",
       "    .dataframe tbody tr th:only-of-type {\n",
       "        vertical-align: middle;\n",
       "    }\n",
       "\n",
       "    .dataframe tbody tr th {\n",
       "        vertical-align: top;\n",
       "    }\n",
       "\n",
       "    .dataframe thead th {\n",
       "        text-align: right;\n",
       "    }\n",
       "</style>\n",
       "<table border=\"1\" class=\"dataframe\">\n",
       "  <thead>\n",
       "    <tr style=\"text-align: right;\">\n",
       "      <th></th>\n",
       "      <th>Brand</th>\n",
       "      <th>Type</th>\n",
       "      <th>Year</th>\n",
       "      <th>Origin</th>\n",
       "      <th>Color</th>\n",
       "      <th>Options</th>\n",
       "      <th>Engine Size</th>\n",
       "      <th>Fuel Type</th>\n",
       "      <th>Gear Type</th>\n",
       "      <th>Mileage</th>\n",
       "      <th>Region</th>\n",
       "      <th>Price</th>\n",
       "      <th>Negotiable</th>\n",
       "    </tr>\n",
       "  </thead>\n",
       "  <tbody>\n",
       "    <tr>\n",
       "      <th>0</th>\n",
       "      <td>Chrysler</td>\n",
       "      <td>C300</td>\n",
       "      <td>2018</td>\n",
       "      <td>Saudi</td>\n",
       "      <td>Black</td>\n",
       "      <td>Full</td>\n",
       "      <td>5.7</td>\n",
       "      <td>Gas</td>\n",
       "      <td>Automatic</td>\n",
       "      <td>103000</td>\n",
       "      <td>Riyadh</td>\n",
       "      <td>114000</td>\n",
       "      <td>False</td>\n",
       "    </tr>\n",
       "    <tr>\n",
       "      <th>1</th>\n",
       "      <td>Nissan</td>\n",
       "      <td>Patrol</td>\n",
       "      <td>2016</td>\n",
       "      <td>Saudi</td>\n",
       "      <td>White</td>\n",
       "      <td>Full</td>\n",
       "      <td>4.8</td>\n",
       "      <td>Gas</td>\n",
       "      <td>Automatic</td>\n",
       "      <td>5448</td>\n",
       "      <td>Riyadh</td>\n",
       "      <td>0</td>\n",
       "      <td>True</td>\n",
       "    </tr>\n",
       "    <tr>\n",
       "      <th>2</th>\n",
       "      <td>Nissan</td>\n",
       "      <td>Sunny</td>\n",
       "      <td>2019</td>\n",
       "      <td>Saudi</td>\n",
       "      <td>Silver</td>\n",
       "      <td>Standard</td>\n",
       "      <td>1.5</td>\n",
       "      <td>Gas</td>\n",
       "      <td>Automatic</td>\n",
       "      <td>72418</td>\n",
       "      <td>Riyadh</td>\n",
       "      <td>27500</td>\n",
       "      <td>False</td>\n",
       "    </tr>\n",
       "    <tr>\n",
       "      <th>3</th>\n",
       "      <td>Hyundai</td>\n",
       "      <td>Elantra</td>\n",
       "      <td>2019</td>\n",
       "      <td>Saudi</td>\n",
       "      <td>Grey</td>\n",
       "      <td>Standard</td>\n",
       "      <td>1.6</td>\n",
       "      <td>Gas</td>\n",
       "      <td>Automatic</td>\n",
       "      <td>114154</td>\n",
       "      <td>Riyadh</td>\n",
       "      <td>43000</td>\n",
       "      <td>False</td>\n",
       "    </tr>\n",
       "    <tr>\n",
       "      <th>4</th>\n",
       "      <td>Hyundai</td>\n",
       "      <td>Elantra</td>\n",
       "      <td>2019</td>\n",
       "      <td>Saudi</td>\n",
       "      <td>Silver</td>\n",
       "      <td>Semi Full</td>\n",
       "      <td>2.0</td>\n",
       "      <td>Gas</td>\n",
       "      <td>Automatic</td>\n",
       "      <td>41912</td>\n",
       "      <td>Riyadh</td>\n",
       "      <td>59500</td>\n",
       "      <td>False</td>\n",
       "    </tr>\n",
       "    <tr>\n",
       "      <th>...</th>\n",
       "      <td>...</td>\n",
       "      <td>...</td>\n",
       "      <td>...</td>\n",
       "      <td>...</td>\n",
       "      <td>...</td>\n",
       "      <td>...</td>\n",
       "      <td>...</td>\n",
       "      <td>...</td>\n",
       "      <td>...</td>\n",
       "      <td>...</td>\n",
       "      <td>...</td>\n",
       "      <td>...</td>\n",
       "      <td>...</td>\n",
       "    </tr>\n",
       "    <tr>\n",
       "      <th>8030</th>\n",
       "      <td>Audi</td>\n",
       "      <td>A6</td>\n",
       "      <td>2015</td>\n",
       "      <td>Saudi</td>\n",
       "      <td>Silver</td>\n",
       "      <td>Full</td>\n",
       "      <td>3.0</td>\n",
       "      <td>Gas</td>\n",
       "      <td>Automatic</td>\n",
       "      <td>77000</td>\n",
       "      <td>Riyadh</td>\n",
       "      <td>75000</td>\n",
       "      <td>False</td>\n",
       "    </tr>\n",
       "    <tr>\n",
       "      <th>8031</th>\n",
       "      <td>Chevrolet</td>\n",
       "      <td>Camaro</td>\n",
       "      <td>2010</td>\n",
       "      <td>Saudi</td>\n",
       "      <td>Silver</td>\n",
       "      <td>Full</td>\n",
       "      <td>3.6</td>\n",
       "      <td>Gas</td>\n",
       "      <td>Automatic</td>\n",
       "      <td>150000</td>\n",
       "      <td>Riyadh</td>\n",
       "      <td>53000</td>\n",
       "      <td>False</td>\n",
       "    </tr>\n",
       "    <tr>\n",
       "      <th>8032</th>\n",
       "      <td>Toyota</td>\n",
       "      <td>Land Cruiser</td>\n",
       "      <td>2013</td>\n",
       "      <td>Gulf Arabic</td>\n",
       "      <td>White</td>\n",
       "      <td>Full</td>\n",
       "      <td>4.6</td>\n",
       "      <td>Gas</td>\n",
       "      <td>Automatic</td>\n",
       "      <td>260</td>\n",
       "      <td>Najran</td>\n",
       "      <td>0</td>\n",
       "      <td>True</td>\n",
       "    </tr>\n",
       "    <tr>\n",
       "      <th>8033</th>\n",
       "      <td>Nissan</td>\n",
       "      <td>Altima</td>\n",
       "      <td>2011</td>\n",
       "      <td>Saudi</td>\n",
       "      <td>Silver</td>\n",
       "      <td>Full</td>\n",
       "      <td>2.5</td>\n",
       "      <td>Gas</td>\n",
       "      <td>Automatic</td>\n",
       "      <td>18500</td>\n",
       "      <td>Aseer</td>\n",
       "      <td>22000</td>\n",
       "      <td>False</td>\n",
       "    </tr>\n",
       "    <tr>\n",
       "      <th>8034</th>\n",
       "      <td>Cadillac</td>\n",
       "      <td>Other</td>\n",
       "      <td>2013</td>\n",
       "      <td>Saudi</td>\n",
       "      <td>White</td>\n",
       "      <td>Full</td>\n",
       "      <td>3.6</td>\n",
       "      <td>Gas</td>\n",
       "      <td>Automatic</td>\n",
       "      <td>256000</td>\n",
       "      <td>Al-Medina</td>\n",
       "      <td>40000</td>\n",
       "      <td>False</td>\n",
       "    </tr>\n",
       "  </tbody>\n",
       "</table>\n",
       "<p>8035 rows × 13 columns</p>\n",
       "</div>"
      ],
      "text/plain": [
       "          Brand          Type  Year       Origin   Color    Options  \\\n",
       "0      Chrysler          C300  2018        Saudi   Black       Full   \n",
       "1        Nissan        Patrol  2016        Saudi   White       Full   \n",
       "2        Nissan         Sunny  2019        Saudi  Silver   Standard   \n",
       "3       Hyundai       Elantra  2019        Saudi    Grey   Standard   \n",
       "4       Hyundai       Elantra  2019        Saudi  Silver  Semi Full   \n",
       "...         ...           ...   ...          ...     ...        ...   \n",
       "8030       Audi            A6  2015        Saudi  Silver       Full   \n",
       "8031  Chevrolet        Camaro  2010        Saudi  Silver       Full   \n",
       "8032     Toyota  Land Cruiser  2013  Gulf Arabic   White       Full   \n",
       "8033     Nissan        Altima  2011        Saudi  Silver       Full   \n",
       "8034   Cadillac         Other  2013        Saudi   White       Full   \n",
       "\n",
       "      Engine Size Fuel Type  Gear Type  Mileage     Region   Price  Negotiable  \n",
       "0             5.7       Gas  Automatic   103000     Riyadh  114000       False  \n",
       "1             4.8       Gas  Automatic     5448     Riyadh       0        True  \n",
       "2             1.5       Gas  Automatic    72418     Riyadh   27500       False  \n",
       "3             1.6       Gas  Automatic   114154     Riyadh   43000       False  \n",
       "4             2.0       Gas  Automatic    41912     Riyadh   59500       False  \n",
       "...           ...       ...        ...      ...        ...     ...         ...  \n",
       "8030          3.0       Gas  Automatic    77000     Riyadh   75000       False  \n",
       "8031          3.6       Gas  Automatic   150000     Riyadh   53000       False  \n",
       "8032          4.6       Gas  Automatic      260     Najran       0        True  \n",
       "8033          2.5       Gas  Automatic    18500      Aseer   22000       False  \n",
       "8034          3.6       Gas  Automatic   256000  Al-Medina   40000       False  \n",
       "\n",
       "[8035 rows x 13 columns]"
      ]
     },
     "execution_count": 4,
     "metadata": {},
     "output_type": "execute_result"
    }
   ],
   "source": [
    "#Rename Columns\n",
    "df.rename(columns = {'Make' : 'Brand', 'Engine_Size': 'Engine Size','Fuel_Type':'Fuel Type', 'Gear_Type':'Gear Type' },inplace = True)\n",
    "df"
   ]
  },
  {
   "cell_type": "markdown",
   "metadata": {},
   "source": [
    "We have changed the Make column to Brand, and changed '_' to space."
   ]
  },
  {
   "cell_type": "markdown",
   "metadata": {},
   "source": [
    "## 2.3 Data Duplicates"
   ]
  },
  {
   "cell_type": "code",
   "execution_count": 5,
   "metadata": {},
   "outputs": [
    {
     "name": "stdout",
     "output_type": "stream",
     "text": [
      "Amount of duplicate data:  3\n"
     ]
    }
   ],
   "source": [
    "# Data Duplicates Check\n",
    "print(\"Amount of duplicate data: \", df.duplicated().sum())"
   ]
  },
  {
   "cell_type": "code",
   "execution_count": 6,
   "metadata": {},
   "outputs": [
    {
     "name": "stdout",
     "output_type": "stream",
     "text": [
      "Amount of duplicate data after dropped:  0\n"
     ]
    }
   ],
   "source": [
    "# Drop Duplicates\n",
    "df.drop_duplicates(inplace = True)\n",
    "\n",
    "print(\"Amount of duplicate data after dropped: \", sum(df.duplicated()))"
   ]
  },
  {
   "cell_type": "markdown",
   "metadata": {},
   "source": [
    "## 2.4 Missing Value"
   ]
  },
  {
   "cell_type": "code",
   "execution_count": 7,
   "metadata": {},
   "outputs": [
    {
     "data": {
      "text/html": [
       "<div>\n",
       "<style scoped>\n",
       "    .dataframe tbody tr th:only-of-type {\n",
       "        vertical-align: middle;\n",
       "    }\n",
       "\n",
       "    .dataframe tbody tr th {\n",
       "        vertical-align: top;\n",
       "    }\n",
       "\n",
       "    .dataframe thead th {\n",
       "        text-align: right;\n",
       "    }\n",
       "</style>\n",
       "<table border=\"1\" class=\"dataframe\">\n",
       "  <thead>\n",
       "    <tr style=\"text-align: right;\">\n",
       "      <th></th>\n",
       "      <th>Data Features</th>\n",
       "      <th>Data Types</th>\n",
       "      <th>Null</th>\n",
       "      <th>Null Percentage</th>\n",
       "      <th>Unique</th>\n",
       "      <th>Unique Sample</th>\n",
       "    </tr>\n",
       "  </thead>\n",
       "  <tbody>\n",
       "    <tr>\n",
       "      <th>0</th>\n",
       "      <td>Brand</td>\n",
       "      <td>object</td>\n",
       "      <td>0</td>\n",
       "      <td>0.0</td>\n",
       "      <td>59</td>\n",
       "      <td>[Jeep]</td>\n",
       "    </tr>\n",
       "    <tr>\n",
       "      <th>1</th>\n",
       "      <td>Type</td>\n",
       "      <td>object</td>\n",
       "      <td>0</td>\n",
       "      <td>0.0</td>\n",
       "      <td>381</td>\n",
       "      <td>[Furniture]</td>\n",
       "    </tr>\n",
       "    <tr>\n",
       "      <th>2</th>\n",
       "      <td>Year</td>\n",
       "      <td>int64</td>\n",
       "      <td>0</td>\n",
       "      <td>0.0</td>\n",
       "      <td>52</td>\n",
       "      <td>[2016]</td>\n",
       "    </tr>\n",
       "    <tr>\n",
       "      <th>3</th>\n",
       "      <td>Origin</td>\n",
       "      <td>object</td>\n",
       "      <td>0</td>\n",
       "      <td>0.0</td>\n",
       "      <td>4</td>\n",
       "      <td>[Unknown]</td>\n",
       "    </tr>\n",
       "    <tr>\n",
       "      <th>4</th>\n",
       "      <td>Color</td>\n",
       "      <td>object</td>\n",
       "      <td>0</td>\n",
       "      <td>0.0</td>\n",
       "      <td>15</td>\n",
       "      <td>[Bronze]</td>\n",
       "    </tr>\n",
       "    <tr>\n",
       "      <th>5</th>\n",
       "      <td>Options</td>\n",
       "      <td>object</td>\n",
       "      <td>0</td>\n",
       "      <td>0.0</td>\n",
       "      <td>3</td>\n",
       "      <td>[Full]</td>\n",
       "    </tr>\n",
       "    <tr>\n",
       "      <th>6</th>\n",
       "      <td>Engine Size</td>\n",
       "      <td>float64</td>\n",
       "      <td>0</td>\n",
       "      <td>0.0</td>\n",
       "      <td>75</td>\n",
       "      <td>[6.6]</td>\n",
       "    </tr>\n",
       "    <tr>\n",
       "      <th>7</th>\n",
       "      <td>Fuel Type</td>\n",
       "      <td>object</td>\n",
       "      <td>0</td>\n",
       "      <td>0.0</td>\n",
       "      <td>3</td>\n",
       "      <td>[Gas]</td>\n",
       "    </tr>\n",
       "    <tr>\n",
       "      <th>8</th>\n",
       "      <td>Gear Type</td>\n",
       "      <td>object</td>\n",
       "      <td>0</td>\n",
       "      <td>0.0</td>\n",
       "      <td>2</td>\n",
       "      <td>[Manual]</td>\n",
       "    </tr>\n",
       "    <tr>\n",
       "      <th>9</th>\n",
       "      <td>Mileage</td>\n",
       "      <td>int64</td>\n",
       "      <td>0</td>\n",
       "      <td>0.0</td>\n",
       "      <td>2175</td>\n",
       "      <td>[420000]</td>\n",
       "    </tr>\n",
       "    <tr>\n",
       "      <th>10</th>\n",
       "      <td>Region</td>\n",
       "      <td>object</td>\n",
       "      <td>0</td>\n",
       "      <td>0.0</td>\n",
       "      <td>27</td>\n",
       "      <td>[Arar]</td>\n",
       "    </tr>\n",
       "    <tr>\n",
       "      <th>11</th>\n",
       "      <td>Price</td>\n",
       "      <td>int64</td>\n",
       "      <td>0</td>\n",
       "      <td>0.0</td>\n",
       "      <td>541</td>\n",
       "      <td>[169500]</td>\n",
       "    </tr>\n",
       "    <tr>\n",
       "      <th>12</th>\n",
       "      <td>Negotiable</td>\n",
       "      <td>bool</td>\n",
       "      <td>0</td>\n",
       "      <td>0.0</td>\n",
       "      <td>2</td>\n",
       "      <td>[False]</td>\n",
       "    </tr>\n",
       "  </tbody>\n",
       "</table>\n",
       "</div>"
      ],
      "text/plain": [
       "   Data Features Data Types  Null  Null Percentage  Unique Unique Sample\n",
       "0          Brand     object     0              0.0      59        [Jeep]\n",
       "1           Type     object     0              0.0     381   [Furniture]\n",
       "2           Year      int64     0              0.0      52        [2016]\n",
       "3         Origin     object     0              0.0       4     [Unknown]\n",
       "4          Color     object     0              0.0      15      [Bronze]\n",
       "5        Options     object     0              0.0       3        [Full]\n",
       "6    Engine Size    float64     0              0.0      75         [6.6]\n",
       "7      Fuel Type     object     0              0.0       3         [Gas]\n",
       "8      Gear Type     object     0              0.0       2      [Manual]\n",
       "9        Mileage      int64     0              0.0    2175      [420000]\n",
       "10        Region     object     0              0.0      27        [Arar]\n",
       "11         Price      int64     0              0.0     541      [169500]\n",
       "12    Negotiable       bool     0              0.0       2       [False]"
      ]
     },
     "execution_count": 7,
     "metadata": {},
     "output_type": "execute_result"
    }
   ],
   "source": [
    "listdesc = []\n",
    "for col in df.columns:\n",
    "    listdesc.append([col,\n",
    "                     df[col].dtypes,\n",
    "                     df[col].isna().sum(),\n",
    "                     round((df[col].isna().sum()/len(df)*100),2),\n",
    "                     df[col].nunique(),\n",
    "                     df[col].drop_duplicates().sample(1).values])\n",
    "\n",
    "pd.DataFrame(listdesc, columns=['Data Features',\n",
    "                               'Data Types',\n",
    "                               'Null',\n",
    "                               'Null Percentage',\n",
    "                               'Unique',\n",
    "                               'Unique Sample'])"
   ]
  },
  {
   "cell_type": "markdown",
   "metadata": {},
   "source": [
    "From the information above, it can be seen that the data is clean with the \"Null\" column with a value of 0 for each index."
   ]
  },
  {
   "cell_type": "markdown",
   "metadata": {},
   "source": [
    "## 2.5 Delete Price Value that has a value of 0"
   ]
  },
  {
   "cell_type": "code",
   "execution_count": 8,
   "metadata": {},
   "outputs": [
    {
     "data": {
      "text/plain": [
       "2526"
      ]
     },
     "execution_count": 8,
     "metadata": {},
     "output_type": "execute_result"
    }
   ],
   "source": [
    "# count value \"0\" in \"Price\" column\n",
    "count_zero = (df['Price'] == 0).sum()\n",
    "count_zero"
   ]
  },
  {
   "cell_type": "markdown",
   "metadata": {},
   "source": [
    "there are 2526 data with \"0\" value"
   ]
  },
  {
   "cell_type": "code",
   "execution_count": 9,
   "metadata": {},
   "outputs": [],
   "source": [
    "#Only using non-zero value\n",
    "df = df[df['Price'] != 0]"
   ]
  },
  {
   "cell_type": "markdown",
   "metadata": {},
   "source": [
    "In this dataset, if the negotiation process occurs then the price column will become 0 <br>\n",
    "<br>\n",
    "If we enter a value of 0 in the target price column it will cause overfitting,  While in *Machine Learning* we need exact numbers."
   ]
  },
  {
   "cell_type": "code",
   "execution_count": 10,
   "metadata": {},
   "outputs": [
    {
     "name": "stdout",
     "output_type": "stream",
     "text": [
      "<class 'pandas.core.frame.DataFrame'>\n",
      "Index: 5506 entries, 0 to 8034\n",
      "Data columns (total 13 columns):\n",
      " #   Column       Non-Null Count  Dtype  \n",
      "---  ------       --------------  -----  \n",
      " 0   Brand        5506 non-null   object \n",
      " 1   Type         5506 non-null   object \n",
      " 2   Year         5506 non-null   int64  \n",
      " 3   Origin       5506 non-null   object \n",
      " 4   Color        5506 non-null   object \n",
      " 5   Options      5506 non-null   object \n",
      " 6   Engine Size  5506 non-null   float64\n",
      " 7   Fuel Type    5506 non-null   object \n",
      " 8   Gear Type    5506 non-null   object \n",
      " 9   Mileage      5506 non-null   int64  \n",
      " 10  Region       5506 non-null   object \n",
      " 11  Price        5506 non-null   int64  \n",
      " 12  Negotiable   5506 non-null   bool   \n",
      "dtypes: bool(1), float64(1), int64(3), object(8)\n",
      "memory usage: 564.6+ KB\n"
     ]
    }
   ],
   "source": [
    "#Final data info before processing\n",
    "df.info()"
   ]
  },
  {
   "cell_type": "markdown",
   "metadata": {},
   "source": [
    "## 2.6 Save Dataset Final for Deployment"
   ]
  },
  {
   "cell_type": "code",
   "execution_count": 11,
   "metadata": {},
   "outputs": [],
   "source": [
    "df.to_csv('Dataset Final.csv', index = 'ignore')"
   ]
  },
  {
   "cell_type": "markdown",
   "metadata": {},
   "source": [
    "# III. EXPLORATORY DATA ANALYSIS (EDA)"
   ]
  },
  {
   "cell_type": "markdown",
   "metadata": {},
   "source": [
    "## 3.1 TOP 10 Brand "
   ]
  },
  {
   "cell_type": "code",
   "execution_count": 12,
   "metadata": {},
   "outputs": [
    {
     "data": {
      "image/png": "[encoded data removed]",
      "text/plain": [
       "<Figure size 1200x600 with 1 Axes>"
      ]
     },
     "metadata": {},
     "output_type": "display_data"
    },
    {
     "name": "stdout",
     "output_type": "stream",
     "text": [
      "Detail Jumlah Mobil per brand:\n",
      " Toyota  Hyundai  Ford  Chevrolet  Nissan  Kia  Mercedes  GMC  Lexus  Mazda\n",
      "   1262      719   510        423     362  268       256  246    237    139\n"
     ]
    }
   ],
   "source": [
    "# Count Brand values and take top 10 \n",
    "brand_counts = df['Brand'].value_counts().nlargest(10)\n",
    "\n",
    "# create plot\n",
    "plt.figure(figsize=(12, 6))\n",
    "brand_counts.plot(kind='bar', color='skyblue')\n",
    "plt.title('Perbandingan 10 Brand Mobil Terbanyak')\n",
    "plt.xlabel('Brand')\n",
    "plt.ylabel('Jumlah Mobil')\n",
    "plt.xticks(rotation=45)\n",
    "plt.grid(axis='y', linestyle='--', alpha=0.6)\n",
    "plt.show()\n",
    "\n",
    "#Detail jumlah mobil per Brand\n",
    "brand_counts_df = brand_counts.to_frame().transpose()\n",
    "print('Detail Jumlah Mobil per brand:')\n",
    "print(brand_counts_df.to_string(index=False))\n",
    "\n"
   ]
  },
  {
   "cell_type": "markdown",
   "metadata": {},
   "source": [
    "From the information above we can find out top 10 most brands currently being sold. Toyota is the highest with 2037 cars and Mazda is in 10th place with 184 cars. <br>\n",
    "We can conclude that the people of Saudi Arabia really like Toyota, this is closely related to the Toyota brand image which is reliable, easy to maintain and tough on all terrains."
   ]
  },
  {
   "cell_type": "markdown",
   "metadata": {},
   "source": [
    "## 3.2 Gear Type Comparison"
   ]
  },
  {
   "cell_type": "code",
   "execution_count": 13,
   "metadata": {},
   "outputs": [
    {
     "data": {
      "image/png": "[encoded data removed]",
      "text/plain": [
       "<Figure size 1200x600 with 1 Axes>"
      ]
     },
     "metadata": {},
     "output_type": "display_data"
    },
    {
     "name": "stdout",
     "output_type": "stream",
     "text": [
      "Detail Jumlah Mobil per Gear Type:\n",
      " Automatic  Manual\n",
      "      4933     573\n"
     ]
    }
   ],
   "source": [
    "# Count Gear Type values and take top 10 \n",
    "gear_counts = df['Gear Type'].value_counts().nlargest(10)\n",
    "\n",
    "# create plot\n",
    "plt.figure(figsize=(12, 6))\n",
    "gear_counts.plot(kind='bar', color='skyblue')\n",
    "plt.title('Perbandingan 10 Gear Type Mobil Terbanyak')\n",
    "plt.xlabel('Gear Type')\n",
    "plt.ylabel('Jumlah Mobil')\n",
    "plt.xticks(rotation=45)\n",
    "plt.grid(axis='y', linestyle='--', alpha=0.6)\n",
    "plt.show()\n",
    "\n",
    "#Detail jumlah mobil per Gear Type\n",
    "gear_counts_df = gear_counts.to_frame().transpose()\n",
    "print('Detail Jumlah Mobil per Gear Type:')\n",
    "print(gear_counts_df.to_string(index=False))\n",
    "\n"
   ]
  },
  {
   "cell_type": "markdown",
   "metadata": {},
   "source": [
    "The largest type of gear type is Automatic Transmission with 6968 cars, then Manual Transmission with 1064 cars. This shows that the people of Saudi Arabia prefer cars with automatic transmission because they are easier to drive, less tiring, and can be used by all people types."
   ]
  },
  {
   "cell_type": "markdown",
   "metadata": {},
   "source": [
    "## 3.3 Average and Median of Price"
   ]
  },
  {
   "cell_type": "code",
   "execution_count": 14,
   "metadata": {},
   "outputs": [
    {
     "name": "stdout",
     "output_type": "stream",
     "text": [
      "Rata-rata harga mobil di Saudi Arabia adalah : 78334.94024700327 dan median harganya adalah: 58000.0\n"
     ]
    }
   ],
   "source": [
    "mean_price = df['Price'].mean()\n",
    "median_price = df['Price'].median()\n",
    "print ('Rata-rata harga mobil di Saudi Arabia adalah :', mean_price, 'dan median harganya adalah:', median_price)"
   ]
  },
  {
   "cell_type": "markdown",
   "metadata": {},
   "source": [
    "## 3.4 Relational Between Price and Brand"
   ]
  },
  {
   "cell_type": "code",
   "execution_count": 15,
   "metadata": {},
   "outputs": [
    {
     "name": "stdout",
     "output_type": "stream",
     "text": [
      "F-statistic: 54.820156292936446\n",
      "P-value: 0.0\n"
     ]
    }
   ],
   "source": [
    "# Membuat dictionary untuk menyimpan harga mobil berdasarkan brand\n",
    "brand_prices = {}\n",
    "for brand in df['Brand'].unique():\n",
    "    brand_prices[brand] = df[df['Brand'] == brand]['Price']\n",
    "\n",
    "# Melakukan ANOVA\n",
    "f_statistic, p_value = f_oneway(*brand_prices.values())\n",
    "\n",
    "print(f\"F-statistic: {f_statistic}\")\n",
    "print(f\"P-value: {p_value}\")\n"
   ]
  },
  {
   "cell_type": "markdown",
   "metadata": {},
   "source": [
    "With an F-statistic value of 40.0777 and a p-value of 0.0, we can conclude that there is a significant difference in car prices between different brands. This rejects the null hypothesis (H0) which states there is no significant difference.<br>\n",
    "Usually brands that are more well-known on the market have higher used prices than brands that are less well-known"
   ]
  },
  {
   "cell_type": "markdown",
   "metadata": {},
   "source": [
    "## 3.5 Relational Between Price and Gear Type"
   ]
  },
  {
   "cell_type": "code",
   "execution_count": 16,
   "metadata": {},
   "outputs": [
    {
     "name": "stdout",
     "output_type": "stream",
     "text": [
      "F-statistic: 81.91120516754067\n",
      "P-value: 1.9389688498860726e-19\n"
     ]
    },
    {
     "data": {
      "image/png": "[encoded data removed]",
      "text/plain": [
       "<Figure size 1200x600 with 1 Axes>"
      ]
     },
     "metadata": {},
     "output_type": "display_data"
    }
   ],
   "source": [
    "# Membuat dictionary untuk menyimpan harga mobil berdasarkan tipe gear\n",
    "gear_prices = {}\n",
    "for gear_type in df['Gear Type'].unique():\n",
    "    gear_prices[gear_type] = df[df['Gear Type'] == gear_type]['Price']\n",
    "\n",
    "# Melakukan ANOVA\n",
    "f_statistic, p_value = f_oneway(*gear_prices.values())\n",
    "\n",
    "print(f\"F-statistic: {f_statistic}\")\n",
    "print(f\"P-value: {p_value}\")\n",
    "\n",
    "#Membuat sebaran data secara visual dari Gear Type\n",
    "plt.figure(figsize=(12, 6))\n",
    "sns.boxplot(x='Gear Type', y='Price', data=df)\n",
    "plt.title('Sebaran Data Secara Visual Dari Gear Type')\n",
    "plt.xlabel('Gear Type')\n",
    "plt.ylabel('Price')\n",
    "plt.xticks(rotation=45)\n",
    "plt.grid(axis='y', linestyle='--', alpha=0.6)\n",
    "plt.show()"
   ]
  },
  {
   "cell_type": "markdown",
   "metadata": {},
   "source": [
    "With an F-statistic value of 161,539 and a very small p-value (1.1744442065035076e-36), we can conclude that there is a significant difference in car prices between various types of gear. This rejects the null hypothesis (H0) which states there is no significant difference. <br> \n",
    "From the data distribution, it can be seen that cars with automatic transmission have a higher price than manual transmission"
   ]
  },
  {
   "cell_type": "markdown",
   "metadata": {},
   "source": [
    "# IV. FEATURES ENGINEERING"
   ]
  },
  {
   "cell_type": "markdown",
   "metadata": {},
   "source": [
    "## 4.1 Cardinality"
   ]
  },
  {
   "cell_type": "code",
   "execution_count": 17,
   "metadata": {},
   "outputs": [
    {
     "name": "stdout",
     "output_type": "stream",
     "text": [
      "Cardinality of column Brand is 57\n",
      "Cardinality of column Type is 352\n",
      "Cardinality of column Origin is 4\n",
      "Cardinality of column Color is 15\n",
      "Cardinality of column Options is 3\n",
      "Cardinality of column Fuel Type is 3\n",
      "Cardinality of column Gear Type is 2\n",
      "Cardinality of column Region is 27\n"
     ]
    }
   ],
   "source": [
    "obj_col = df.select_dtypes(include=['object'])\n",
    "for cat in obj_col:\n",
    "  count = len(df[cat].unique())\n",
    "  print(f\"Cardinality of column {cat} is {count}\")"
   ]
  },
  {
   "cell_type": "markdown",
   "metadata": {},
   "source": [
    "The Brand, Type, Color, and Region columns have high cardinality, while the Options, Fuel Type, and Gear Type columns have low cardinality"
   ]
  },
  {
   "cell_type": "markdown",
   "metadata": {},
   "source": [
    "## 4.2 Split X (features) and Y (Target)"
   ]
  },
  {
   "cell_type": "code",
   "execution_count": 18,
   "metadata": {},
   "outputs": [
    {
     "name": "stdout",
     "output_type": "stream",
     "text": [
      "kolom X =  Index(['Brand', 'Type', 'Year', 'Origin', 'Color', 'Options', 'Engine Size',\n",
      "       'Fuel Type', 'Gear Type', 'Mileage', 'Region', 'Negotiable'],\n",
      "      dtype='object')\n"
     ]
    }
   ],
   "source": [
    "X = df.drop('Price', axis = 1)\n",
    "y = df[['Price']]\n",
    "print ('kolom X = ', X.columns)"
   ]
  },
  {
   "cell_type": "markdown",
   "metadata": {},
   "source": [
    "## 4.3 Split X Numerical and X Categorical"
   ]
  },
  {
   "cell_type": "code",
   "execution_count": 19,
   "metadata": {},
   "outputs": [
    {
     "name": "stdout",
     "output_type": "stream",
     "text": [
      "Data Numerik =  ['Year', 'Engine Size', 'Mileage', 'Negotiable']\n",
      "Data Kategorik =  ['Brand', 'Type', 'Origin', 'Color', 'Options', 'Fuel Type', 'Gear Type', 'Region']\n"
     ]
    }
   ],
   "source": [
    "X_num = X.select_dtypes(exclude = ['object']).columns.tolist()\n",
    "X_cat = X.select_dtypes(include = ['object']).columns.tolist()\n",
    "\n",
    "print ('Data Numerik = ', X_num)\n",
    "print ('Data Kategorik = ', X_cat)"
   ]
  },
  {
   "cell_type": "markdown",
   "metadata": {},
   "source": [
    "## 4.4 Split Train-set and Test-set"
   ]
  },
  {
   "cell_type": "code",
   "execution_count": 20,
   "metadata": {},
   "outputs": [
    {
     "name": "stdout",
     "output_type": "stream",
     "text": [
      "X_Train Size:  (3854, 12)\n",
      "X_Test Size:  (1652, 12)\n",
      "Y_Train Size:  (3854, 1)\n",
      "Y_Test Size:  (1652, 1)\n"
     ]
    }
   ],
   "source": [
    "#Splitting between train and test\n",
    "X_train, X_test, y_train, y_test = train_test_split(X, y, test_size = 0.3, random_state = 2)\n",
    "print('X_Train Size: ', X_train.shape)\n",
    "print('X_Test Size: ', X_test.shape)\n",
    "\n",
    "print('Y_Train Size: ', y_train.shape)\n",
    "print('Y_Test Size: ', y_test.shape)"
   ]
  },
  {
   "cell_type": "code",
   "execution_count": 21,
   "metadata": {},
   "outputs": [
    {
     "name": "stdout",
     "output_type": "stream",
     "text": [
      "Numeric Columns:  ['Year', 'Engine Size', 'Mileage', 'Negotiable']\n",
      "Categorical Columns:  ['Brand', 'Type', 'Origin', 'Color', 'Options', 'Fuel Type', 'Gear Type', 'Region']\n"
     ]
    }
   ],
   "source": [
    "#get numeric and categorical column\n",
    "\n",
    "num_columns = X_train.select_dtypes(exclude = ['object']).columns.tolist()\n",
    "cat_columns = X_train.select_dtypes(include = ['object']).columns.tolist()\n",
    "\n",
    "num_columns2 = X_test.select_dtypes(exclude = ['object']).columns.tolist()\n",
    "cat_columns = X_test.select_dtypes(include = ['object']).columns.tolist()\n",
    "print('Numeric Columns: ', num_columns)\n",
    "print('Categorical Columns: ', cat_columns)"
   ]
  },
  {
   "cell_type": "code",
   "execution_count": 22,
   "metadata": {},
   "outputs": [
    {
     "data": {
      "text/html": [
       "<div>\n",
       "<style scoped>\n",
       "    .dataframe tbody tr th:only-of-type {\n",
       "        vertical-align: middle;\n",
       "    }\n",
       "\n",
       "    .dataframe tbody tr th {\n",
       "        vertical-align: top;\n",
       "    }\n",
       "\n",
       "    .dataframe thead th {\n",
       "        text-align: right;\n",
       "    }\n",
       "</style>\n",
       "<table border=\"1\" class=\"dataframe\">\n",
       "  <thead>\n",
       "    <tr style=\"text-align: right;\">\n",
       "      <th></th>\n",
       "      <th>Year</th>\n",
       "      <th>Engine Size</th>\n",
       "      <th>Mileage</th>\n",
       "      <th>Negotiable</th>\n",
       "    </tr>\n",
       "  </thead>\n",
       "  <tbody>\n",
       "    <tr>\n",
       "      <th>384</th>\n",
       "      <td>2016</td>\n",
       "      <td>5.0</td>\n",
       "      <td>132000</td>\n",
       "      <td>False</td>\n",
       "    </tr>\n",
       "    <tr>\n",
       "      <th>859</th>\n",
       "      <td>2016</td>\n",
       "      <td>3.3</td>\n",
       "      <td>199</td>\n",
       "      <td>False</td>\n",
       "    </tr>\n",
       "    <tr>\n",
       "      <th>6897</th>\n",
       "      <td>2012</td>\n",
       "      <td>5.4</td>\n",
       "      <td>195000</td>\n",
       "      <td>False</td>\n",
       "    </tr>\n",
       "    <tr>\n",
       "      <th>2421</th>\n",
       "      <td>2016</td>\n",
       "      <td>4.0</td>\n",
       "      <td>243038</td>\n",
       "      <td>False</td>\n",
       "    </tr>\n",
       "    <tr>\n",
       "      <th>204</th>\n",
       "      <td>2017</td>\n",
       "      <td>2.4</td>\n",
       "      <td>110000</td>\n",
       "      <td>False</td>\n",
       "    </tr>\n",
       "    <tr>\n",
       "      <th>...</th>\n",
       "      <td>...</td>\n",
       "      <td>...</td>\n",
       "      <td>...</td>\n",
       "      <td>...</td>\n",
       "    </tr>\n",
       "    <tr>\n",
       "      <th>4366</th>\n",
       "      <td>2006</td>\n",
       "      <td>4.0</td>\n",
       "      <td>106000</td>\n",
       "      <td>False</td>\n",
       "    </tr>\n",
       "    <tr>\n",
       "      <th>1288</th>\n",
       "      <td>2005</td>\n",
       "      <td>5.3</td>\n",
       "      <td>84000</td>\n",
       "      <td>False</td>\n",
       "    </tr>\n",
       "    <tr>\n",
       "      <th>3114</th>\n",
       "      <td>2013</td>\n",
       "      <td>2.7</td>\n",
       "      <td>201000</td>\n",
       "      <td>False</td>\n",
       "    </tr>\n",
       "    <tr>\n",
       "      <th>4811</th>\n",
       "      <td>2016</td>\n",
       "      <td>5.7</td>\n",
       "      <td>117000</td>\n",
       "      <td>False</td>\n",
       "    </tr>\n",
       "    <tr>\n",
       "      <th>3191</th>\n",
       "      <td>2021</td>\n",
       "      <td>2.0</td>\n",
       "      <td>2300</td>\n",
       "      <td>False</td>\n",
       "    </tr>\n",
       "  </tbody>\n",
       "</table>\n",
       "<p>3854 rows × 4 columns</p>\n",
       "</div>"
      ],
      "text/plain": [
       "      Year  Engine Size  Mileage  Negotiable\n",
       "384   2016          5.0   132000       False\n",
       "859   2016          3.3      199       False\n",
       "6897  2012          5.4   195000       False\n",
       "2421  2016          4.0   243038       False\n",
       "204   2017          2.4   110000       False\n",
       "...    ...          ...      ...         ...\n",
       "4366  2006          4.0   106000       False\n",
       "1288  2005          5.3    84000       False\n",
       "3114  2013          2.7   201000       False\n",
       "4811  2016          5.7   117000       False\n",
       "3191  2021          2.0     2300       False\n",
       "\n",
       "[3854 rows x 4 columns]"
      ]
     },
     "execution_count": 22,
     "metadata": {},
     "output_type": "execute_result"
    }
   ],
   "source": [
    "X_train_num = X_train[num_columns]\n",
    "X_train_cat = X_train[cat_columns]\n",
    "\n",
    "X_test_num = X_test[num_columns]\n",
    "X_test_cat = X_test[cat_columns]\n",
    "\n",
    "X_train_num"
   ]
  },
  {
   "cell_type": "markdown",
   "metadata": {},
   "source": [
    "## 4.5  Handling Outliers"
   ]
  },
  {
   "cell_type": "code",
   "execution_count": 23,
   "metadata": {},
   "outputs": [
    {
     "data": {
      "text/html": [
       "<div>\n",
       "<style scoped>\n",
       "    .dataframe tbody tr th:only-of-type {\n",
       "        vertical-align: middle;\n",
       "    }\n",
       "\n",
       "    .dataframe tbody tr th {\n",
       "        vertical-align: top;\n",
       "    }\n",
       "\n",
       "    .dataframe thead th {\n",
       "        text-align: right;\n",
       "    }\n",
       "</style>\n",
       "<table border=\"1\" class=\"dataframe\">\n",
       "  <thead>\n",
       "    <tr style=\"text-align: right;\">\n",
       "      <th></th>\n",
       "      <th>nama kolom</th>\n",
       "      <th>nilai skewness</th>\n",
       "    </tr>\n",
       "  </thead>\n",
       "  <tbody>\n",
       "    <tr>\n",
       "      <th>0</th>\n",
       "      <td>Year</td>\n",
       "      <td>-2.737442</td>\n",
       "    </tr>\n",
       "    <tr>\n",
       "      <th>1</th>\n",
       "      <td>Engine Size</td>\n",
       "      <td>0.706762</td>\n",
       "    </tr>\n",
       "    <tr>\n",
       "      <th>2</th>\n",
       "      <td>Mileage</td>\n",
       "      <td>38.081020</td>\n",
       "    </tr>\n",
       "    <tr>\n",
       "      <th>3</th>\n",
       "      <td>Negotiable</td>\n",
       "      <td>0.000000</td>\n",
       "    </tr>\n",
       "  </tbody>\n",
       "</table>\n",
       "</div>"
      ],
      "text/plain": [
       "    nama kolom  nilai skewness\n",
       "0         Year       -2.737442\n",
       "1  Engine Size        0.706762\n",
       "2      Mileage       38.081020\n",
       "3   Negotiable        0.000000"
      ]
     },
     "execution_count": 23,
     "metadata": {},
     "output_type": "execute_result"
    }
   ],
   "source": [
    "#Skew Check\n",
    "X_train_num_cols = list(X_train.select_dtypes(exclude='object').columns)\n",
    "\n",
    "listItem= []\n",
    "\n",
    "for col in X_train_num_cols:\n",
    "  listItem.append([col, X_train[col].skew()])\n",
    "\n",
    "pd.DataFrame(columns=['nama kolom', 'nilai skewness'], data= listItem)\n"
   ]
  },
  {
   "cell_type": "markdown",
   "metadata": {},
   "source": [
    "- The \"Year\" column has a skewness value of around -2.737, indicating that the distribution of car years is skewed to the left, meaning most of the cars in the dataset are probably older.\n",
    "- The \"Engine Size\" column has a skewness value of around 0.707, indicating that the engine size distribution tends to be slightly skewed to the right, but not significantly so.\n",
    "- The “Mileage” column has a skewness value of around 38,081, indicating that the mileage distribution is highly skewed to the right, meaning most cars in the dataset have low mileage.\n",
    "- The “Negotiable” column has a skewness value of around 0.000, indicating that this variable does not have significant asymmetry in its distribution.<br>\n",
    "<br>\n",
    "The year and engine size columns have outliers but are not extreme, while Mileage has extreme outliers"
   ]
  },
  {
   "cell_type": "code",
   "execution_count": 24,
   "metadata": {},
   "outputs": [],
   "source": [
    "#First, Capping with IQR\n",
    "winsoriser1 = Winsorizer(capping_method='iqr',\n",
    "                            tail='both',\n",
    "                            fold=3,\n",
    "                            variables=['Year', 'Engine Size', 'Mileage'],\n",
    "                            missing_values='ignore')\n",
    "\n",
    "X_train = winsoriser1.fit_transform(X_train)\n",
    "X_test = winsoriser1.transform(X_test)"
   ]
  },
  {
   "cell_type": "code",
   "execution_count": 25,
   "metadata": {},
   "outputs": [],
   "source": [
    "winsoriser2 = Winsorizer(capping_method='gaussian',\n",
    "                            tail='both',\n",
    "                            fold=3,\n",
    "                            variables=['Year', 'Engine Size', 'Mileage'],\n",
    "                            missing_values='ignore')\n",
    "\n",
    "X_train = winsoriser2.fit_transform(X_train)\n",
    "X_test = winsoriser2.transform(X_test)"
   ]
  },
  {
   "cell_type": "code",
   "execution_count": 26,
   "metadata": {},
   "outputs": [
    {
     "data": {
      "text/html": [
       "<div>\n",
       "<style scoped>\n",
       "    .dataframe tbody tr th:only-of-type {\n",
       "        vertical-align: middle;\n",
       "    }\n",
       "\n",
       "    .dataframe tbody tr th {\n",
       "        vertical-align: top;\n",
       "    }\n",
       "\n",
       "    .dataframe thead th {\n",
       "        text-align: right;\n",
       "    }\n",
       "</style>\n",
       "<table border=\"1\" class=\"dataframe\">\n",
       "  <thead>\n",
       "    <tr style=\"text-align: right;\">\n",
       "      <th></th>\n",
       "      <th>nama kolom</th>\n",
       "      <th>nilai skewness</th>\n",
       "    </tr>\n",
       "  </thead>\n",
       "  <tbody>\n",
       "    <tr>\n",
       "      <th>0</th>\n",
       "      <td>Year</td>\n",
       "      <td>-1.342547</td>\n",
       "    </tr>\n",
       "    <tr>\n",
       "      <th>1</th>\n",
       "      <td>Engine Size</td>\n",
       "      <td>0.622364</td>\n",
       "    </tr>\n",
       "    <tr>\n",
       "      <th>2</th>\n",
       "      <td>Mileage</td>\n",
       "      <td>1.112694</td>\n",
       "    </tr>\n",
       "    <tr>\n",
       "      <th>3</th>\n",
       "      <td>Negotiable</td>\n",
       "      <td>0.000000</td>\n",
       "    </tr>\n",
       "  </tbody>\n",
       "</table>\n",
       "</div>"
      ],
      "text/plain": [
       "    nama kolom  nilai skewness\n",
       "0         Year       -1.342547\n",
       "1  Engine Size        0.622364\n",
       "2      Mileage        1.112694\n",
       "3   Negotiable        0.000000"
      ]
     },
     "execution_count": 26,
     "metadata": {},
     "output_type": "execute_result"
    }
   ],
   "source": [
    "#recheck skewness after capping\n",
    "X_train_num_cols2 = list(X_train.select_dtypes(exclude='object').columns)\n",
    "\n",
    "listItem= []\n",
    "\n",
    "for col in X_train_num_cols2:\n",
    "  listItem.append([col, X_train[col].skew()])\n",
    "\n",
    "pd.DataFrame(columns=['nama kolom', 'nilai skewness'], data= listItem)\n"
   ]
  },
  {
   "cell_type": "markdown",
   "metadata": {},
   "source": [
    "There has been decreased in skewness, but all columns are still skewed"
   ]
  },
  {
   "cell_type": "markdown",
   "metadata": {},
   "source": [
    "## 4.6 Missing Value"
   ]
  },
  {
   "cell_type": "code",
   "execution_count": 27,
   "metadata": {},
   "outputs": [
    {
     "data": {
      "text/plain": [
       "Brand          0\n",
       "Type           0\n",
       "Year           0\n",
       "Origin         0\n",
       "Color          0\n",
       "Options        0\n",
       "Engine Size    0\n",
       "Fuel Type      0\n",
       "Gear Type      0\n",
       "Mileage        0\n",
       "Region         0\n",
       "Negotiable     0\n",
       "dtype: int64"
      ]
     },
     "execution_count": 27,
     "metadata": {},
     "output_type": "execute_result"
    }
   ],
   "source": [
    "X_train.isnull().sum()"
   ]
  },
  {
   "cell_type": "code",
   "execution_count": 28,
   "metadata": {},
   "outputs": [
    {
     "data": {
      "text/plain": [
       "Brand          0\n",
       "Type           0\n",
       "Year           0\n",
       "Origin         0\n",
       "Color          0\n",
       "Options        0\n",
       "Engine Size    0\n",
       "Fuel Type      0\n",
       "Gear Type      0\n",
       "Mileage        0\n",
       "Region         0\n",
       "Negotiable     0\n",
       "dtype: int64"
      ]
     },
     "execution_count": 28,
     "metadata": {},
     "output_type": "execute_result"
    }
   ],
   "source": [
    "X_test.isnull().sum()"
   ]
  },
  {
   "cell_type": "code",
   "execution_count": 29,
   "metadata": {},
   "outputs": [
    {
     "data": {
      "text/plain": [
       "Price    0\n",
       "dtype: int64"
      ]
     },
     "execution_count": 29,
     "metadata": {},
     "output_type": "execute_result"
    }
   ],
   "source": [
    "y_train.isnull().sum()"
   ]
  },
  {
   "cell_type": "code",
   "execution_count": 30,
   "metadata": {},
   "outputs": [
    {
     "data": {
      "text/plain": [
       "Price    0\n",
       "dtype: int64"
      ]
     },
     "execution_count": 30,
     "metadata": {},
     "output_type": "execute_result"
    }
   ],
   "source": [
    "y_test.isnull().sum()"
   ]
  },
  {
   "cell_type": "markdown",
   "metadata": {},
   "source": [
    "## 4.7 Feature Selection"
   ]
  },
  {
   "cell_type": "markdown",
   "metadata": {},
   "source": [
    "In this section we will focus to p-value is less than alpha (the chosen significance level 0.05), we can reject the null hypothesis. In this context, the null hypothesis is that there is no correlation between that column and Price."
   ]
  },
  {
   "cell_type": "code",
   "execution_count": 31,
   "metadata": {},
   "outputs": [
    {
     "name": "stdout",
     "output_type": "stream",
     "text": [
      "  Nama Kolom        P-Value  Interpretasi\n",
      "0      Brand   0.000000e+00  Ada korelasi\n",
      "1       Type   0.000000e+00  Ada korelasi\n",
      "2      Color   2.977030e-24  Ada korelasi\n",
      "3    Options  2.776395e-145  Ada korelasi\n",
      "4  Fuel Type   2.600942e-03  Ada korelasi\n",
      "5  Gear Type   1.938969e-19  Ada korelasi\n",
      "6     Region   1.576403e-15  Ada korelasi\n",
      "7     Origin   4.728863e-38  Ada korelasi\n"
     ]
    }
   ],
   "source": [
    "#Relational between price and Categorical Column \n",
    "categorical_cols = ['Brand', 'Type', 'Color', 'Options', 'Fuel Type', 'Gear Type', 'Region', 'Origin']\n",
    "\n",
    "p_values = []\n",
    "interpretations = []\n",
    "cols = []\n",
    "\n",
    "for col in categorical_cols:\n",
    "    groups = [df.loc[df[col] == val, 'Price'] for val in df[col].unique()]\n",
    "    f_statistic, p_value = f_oneway(*groups)\n",
    "    \n",
    "    p_values.append(p_value)\n",
    "    cols.append(col)\n",
    "    \n",
    "    if p_value < 0.05:\n",
    "        interpretations.append('Ada korelasi')\n",
    "    else:\n",
    "        interpretations.append('Tidak ada korelasi')\n",
    "\n",
    "result_df = pd.DataFrame({'Nama Kolom': cols, 'P-Value': p_values, 'Interpretasi': interpretations})\n",
    "print(result_df)\n"
   ]
  },
  {
   "cell_type": "markdown",
   "metadata": {},
   "source": [
    "The anova method is used to examine the relationship between the Price (numerical) column and the categorical columns. The result was that the Fuel Type column had no relationship with Price because it had a P-Value of 4.439905e-01. The Brand and Type columns have the strongest correlation with Price for the reasons I mentioned in the EDA section"
   ]
  },
  {
   "cell_type": "code",
   "execution_count": 32,
   "metadata": {},
   "outputs": [
    {
     "name": "stdout",
     "output_type": "stream",
     "text": [
      "    Nama Kolom  Korelasi Spearman        P-Value        Interpretasi\n",
      "0         Year           0.419532  1.069650e-233        Ada korelasi\n",
      "1  Engine Size           0.382309  3.953088e-191        Ada korelasi\n",
      "2      Mileage          -0.266557   3.282850e-90        Ada korelasi\n",
      "3   Negotiable                NaN            NaN  Tidak ada korelasi\n"
     ]
    },
    {
     "name": "stderr",
     "output_type": "stream",
     "text": [
      "/var/folders/x0/brj3ylkn29533l3fk8w1scqc0000gn/T/ipykernel_1750/4169812480.py:8: ConstantInputWarning: An input array is constant; the correlation coefficient is not defined.\n",
      "  correlation, p_value = spearmanr(df[col], df['Price'])\n"
     ]
    }
   ],
   "source": [
    "#Relational between price and numerical Column \n",
    "numeric_cols = ['Year', 'Engine Size', 'Mileage', 'Negotiable']\n",
    "p_values = []\n",
    "correlations = []\n",
    "interpretations = []\n",
    "\n",
    "for col in numeric_cols:\n",
    "    correlation, p_value = spearmanr(df[col], df['Price'])\n",
    "    correlations.append(correlation)\n",
    "    p_values.append(p_value)\n",
    "    \n",
    "    if p_value < 0.05:\n",
    "        interpretations.append('Ada korelasi')\n",
    "    else:\n",
    "        interpretations.append('Tidak ada korelasi')\n",
    "\n",
    "result_df = pd.DataFrame({'Nama Kolom': numeric_cols, 'Korelasi Spearman': correlations, 'P-Value': p_values, 'Interpretasi': interpretations})\n",
    "print(result_df)"
   ]
  },
  {
   "cell_type": "markdown",
   "metadata": {},
   "source": [
    "The Spearman method is used to find the relationship between the Price column (numerical) and the numerical columns. The result is that all columns have a relationship with Price because they have a P-Value <0.05. The Year column has the strongest correlation and is directly proportional to Price, the same car in a different year means that a younger car will have a higher price. Likewise with Engine Size, the bigger the engine size number, the higher the price will be. As for mileage, the smaller the mileage number, the higher the price"
   ]
  },
  {
   "cell_type": "code",
   "execution_count": 33,
   "metadata": {},
   "outputs": [],
   "source": [
    "X_train.drop(columns = ['Fuel Type'], inplace = True)\n",
    "X_test.drop(columns = ['Fuel Type'], inplace = True)\n",
    "\n",
    "X_train_cat.drop(columns = ['Fuel Type'], inplace = True)\n",
    "X_test_cat.drop(columns = ['Fuel Type'], inplace = True)"
   ]
  },
  {
   "cell_type": "markdown",
   "metadata": {},
   "source": [
    "Base on relational test before, we deleted Fuel Type feature because unrelational to target"
   ]
  },
  {
   "cell_type": "code",
   "execution_count": 34,
   "metadata": {},
   "outputs": [
    {
     "name": "stdout",
     "output_type": "stream",
     "text": [
      "Final Column X_train: Index(['Brand', 'Type', 'Year', 'Color', 'Options', 'Engine Size', 'Gear Type',\n",
      "       'Mileage', 'Region'],\n",
      "      dtype='object')\n",
      "Final Column X_test: Index(['Brand', 'Type', 'Year', 'Color', 'Options', 'Engine Size', 'Gear Type',\n",
      "       'Mileage', 'Region'],\n",
      "      dtype='object')\n"
     ]
    }
   ],
   "source": [
    "#Delete Negotiable and Origin Column in X_train and X_test\n",
    "X_train.drop(columns = ['Negotiable', 'Origin'], inplace = True)\n",
    "X_test.drop(columns = ['Negotiable', 'Origin'], inplace = True)\n",
    "\n",
    "#Delete Origin Column in X_train_cat and X_test_cat\n",
    "X_train_cat.drop(columns = ['Origin'], inplace = True)\n",
    "X_test_cat.drop(columns = ['Origin'], inplace = True)\n",
    "\n",
    "#Delete Negotiable Column in X_train_num and X_test_num\n",
    "X_train_num.drop(columns = ['Negotiable'], inplace = True)\n",
    "X_test_num.drop(columns = ['Negotiable'], inplace = True)\n",
    "\n",
    "\n",
    "print ('Final Column X_train:', X_train.columns)\n",
    "print ('Final Column X_test:', X_test.columns)"
   ]
  },
  {
   "cell_type": "markdown",
   "metadata": {},
   "source": [
    "\n",
    "Base on my personal judgement, we need to delete any columns that are not needed based on the domain knowledge we have.<br>\n",
    "<br>\n",
    "**Negotiable** <br>\n",
    "We will remove the \"Negotiable\" feature because in making machine learning models we must have a definite price in selling used cars. Judging from the datasets, the \"Price\" value is zero because the \"Negotiable\" feature is True. This indicates that the price is determined through negotiations which makes the certainty of the price of a used car biased. Therefore we will remove the feature \"Negotiable\".<br>\n",
    "<br>\n",
    "**Origin** <br>\n",
    "Based on the article published on [kenresearch.com](https://www.kenresearch.com/blog/2020/09/future-of-saudi-arabia-used-car-market-growth-rate-ken-research/) , there is no parameter or effect of used car sales in Saudi Arabia based on car importing countries. Therefore we will remove the \"Origin\" feature."
   ]
  },
  {
   "cell_type": "markdown",
   "metadata": {},
   "source": [
    "## 4.8 Feature Transformer"
   ]
  },
  {
   "cell_type": "code",
   "execution_count": 35,
   "metadata": {},
   "outputs": [],
   "source": [
    "#Making column transformer for preprocessing\n",
    "transformer = ColumnTransformer([\n",
    "    ('scaler', MinMaxScaler(), selector(dtype_exclude='object')),\n",
    "    ('encoding', OrdinalEncoder(handle_unknown='use_encoded_value', unknown_value=-1), selector(dtype_include='object'))\n",
    "])"
   ]
  },
  {
   "cell_type": "markdown",
   "metadata": {},
   "source": [
    "# V. MODEL DEFINITION"
   ]
  },
  {
   "cell_type": "markdown",
   "metadata": {},
   "source": [
    "## 5.1 Random Forest"
   ]
  },
  {
   "cell_type": "code",
   "execution_count": 36,
   "metadata": {},
   "outputs": [],
   "source": [
    "rf_pipeline = Pipeline([\n",
    "    ('preprocessor', transformer),  \n",
    "    ('rf', RandomForestRegressor())  \n",
    "])"
   ]
  },
  {
   "cell_type": "markdown",
   "metadata": {},
   "source": [
    "# 5.2 Decision Tree"
   ]
  },
  {
   "cell_type": "code",
   "execution_count": 37,
   "metadata": {},
   "outputs": [],
   "source": [
    "dt_pipeline = Pipeline([\n",
    "    ('preprocessor', transformer),  \n",
    "    ('dt', DecisionTreeRegressor())  \n",
    "])"
   ]
  },
  {
   "cell_type": "markdown",
   "metadata": {},
   "source": [
    "# 5.3 KNN"
   ]
  },
  {
   "cell_type": "code",
   "execution_count": 38,
   "metadata": {},
   "outputs": [],
   "source": [
    "knn_pipeline = Pipeline([\n",
    "    ('preprocessor', transformer),  \n",
    "    ('knn', KNeighborsRegressor())  \n",
    "])"
   ]
  },
  {
   "cell_type": "markdown",
   "metadata": {},
   "source": [
    "# 5.4 SVM"
   ]
  },
  {
   "cell_type": "code",
   "execution_count": 39,
   "metadata": {},
   "outputs": [],
   "source": [
    "svm_pipeline = Pipeline([\n",
    "    ('preprocessor', transformer),  \n",
    "    ('svm', SVR())  \n",
    "])"
   ]
  },
  {
   "cell_type": "markdown",
   "metadata": {},
   "source": [
    "## 5.5 XGBoost"
   ]
  },
  {
   "cell_type": "code",
   "execution_count": 40,
   "metadata": {},
   "outputs": [],
   "source": [
    "#Making pipeline for XGBoost\n",
    "xgb_pipeline = Pipeline([\n",
    "('preprocessor', transformer),\n",
    "('xgb', XGBRegressor())\n",
    "])"
   ]
  },
  {
   "cell_type": "markdown",
   "metadata": {},
   "source": [
    "# VI. MODEL TRAINING - Base Model"
   ]
  },
  {
   "cell_type": "code",
   "execution_count": 41,
   "metadata": {},
   "outputs": [
    {
     "name": "stderr",
     "output_type": "stream",
     "text": [
      "/Users/daniyalkahfi/miniconda3/lib/python3.9/site-packages/sklearn/base.py:1351: DataConversionWarning: A column-vector y was passed when a 1d array was expected. Please change the shape of y to (n_samples,), for example using ravel().\n",
      "  return fit_method(estimator, *args, **kwargs)\n"
     ]
    },
    {
     "name": "stdout",
     "output_type": "stream",
     "text": [
      "Training Score:  0.9676\n",
      "Testing Score:  0.6836\n"
     ]
    }
   ],
   "source": [
    "# Random Forest Training\n",
    "rf_pipeline.fit(X_train, y_train)\n",
    "print('Training Score: ',round(rf_pipeline.score(X_train, y_train),4))\n",
    "print('Testing Score: ', round(rf_pipeline.score(X_test, y_test),4))"
   ]
  },
  {
   "cell_type": "markdown",
   "metadata": {},
   "source": [
    "The Random Forest model that we use produces overfitting. Overfitting occurs when a model is so complex that it is able to “memorize” the training data very well, but cannot generalize well to new data."
   ]
  },
  {
   "cell_type": "code",
   "execution_count": 42,
   "metadata": {},
   "outputs": [
    {
     "name": "stdout",
     "output_type": "stream",
     "text": [
      "Training Score:  1.0\n",
      "Testing Score:  0.5361\n"
     ]
    }
   ],
   "source": [
    "# Decision Tree Training\n",
    "dt_pipeline.fit(X_train, y_train)\n",
    "print('Training Score: ',round(dt_pipeline.score(X_train, y_train),4))\n",
    "print('Testing Score: ', round(dt_pipeline.score(X_test, y_test),4))"
   ]
  },
  {
   "cell_type": "markdown",
   "metadata": {},
   "source": [
    "Decision Tree also shows overfitting because the training score and test score are very different"
   ]
  },
  {
   "cell_type": "code",
   "execution_count": 43,
   "metadata": {},
   "outputs": [
    {
     "name": "stdout",
     "output_type": "stream",
     "text": [
      "Training Score:  0.6079\n",
      "Testing Score:  0.3026\n"
     ]
    }
   ],
   "source": [
    "# KNN Training Training\n",
    "knn_pipeline.fit(X_train, y_train)\n",
    "print('Training Score: ',round(knn_pipeline.score(X_train, y_train),4))\n",
    "print('Testing Score: ', round(knn_pipeline.score(X_test, y_test),4))"
   ]
  },
  {
   "cell_type": "markdown",
   "metadata": {},
   "source": [
    "KNN also shows overfitting because the training score and test score are very different"
   ]
  },
  {
   "cell_type": "code",
   "execution_count": 44,
   "metadata": {},
   "outputs": [
    {
     "name": "stderr",
     "output_type": "stream",
     "text": [
      "/Users/daniyalkahfi/miniconda3/lib/python3.9/site-packages/sklearn/utils/validation.py:1229: DataConversionWarning: A column-vector y was passed when a 1d array was expected. Please change the shape of y to (n_samples, ), for example using ravel().\n",
      "  y = column_or_1d(y, warn=True)\n"
     ]
    },
    {
     "name": "stdout",
     "output_type": "stream",
     "text": [
      "Training Score:  -0.0783\n",
      "Testing Score:  -0.0612\n"
     ]
    }
   ],
   "source": [
    "#SVM Training\n",
    "svm_pipeline.fit(X_train, y_train)\n",
    "print('Training Score: ',round(svm_pipeline.score(X_train, y_train),4))\n",
    "print('Testing Score: ', round(svm_pipeline.score(X_test, y_test),4))\n"
   ]
  },
  {
   "cell_type": "markdown",
   "metadata": {},
   "source": [
    "SVM shows Underfitting. Underfitting occurs when the model is too simple to learn the patterns present in the training data, so it cannot generalize well to the testing data. This can be seen from the low scores on both training and testing data."
   ]
  },
  {
   "cell_type": "code",
   "execution_count": 45,
   "metadata": {},
   "outputs": [
    {
     "name": "stdout",
     "output_type": "stream",
     "text": [
      "Training Score:  0.988\n",
      "Testing Score:  0.7693\n"
     ]
    }
   ],
   "source": [
    "#XGBoost Training\n",
    "xgb_pipeline.fit(X_train, y_train)\n",
    "print('Training Score: ',round(xgb_pipeline.score(X_train, y_train),4))\n",
    "print('Testing Score: ', round(xgb_pipeline.score(X_test, y_test),4))"
   ]
  },
  {
   "cell_type": "markdown",
   "metadata": {},
   "source": [
    "XGBoost also shows overfitting because the training score and test score are different, but not too extreme like another model"
   ]
  },
  {
   "cell_type": "markdown",
   "metadata": {},
   "source": [
    "# VII. MODEL EVALUATION\n",
    "In this section we will carry out Cross-validation with the RMSE (Root Mean Squared Error) and R2 score (Coefficient of Determination) methods as evaluation metrics because they provide different information about the model's performance in predicting prices:\n",
    "\n",
    "    * RMSE: Used to measure how well the model is at predicting the exact value of the price. RMSE calculates the root of the mean of the squares of the differences between the predicted value and the actual value. The lower the RMSE, the better the model is at accurately predicting prices.\n",
    "    \n",
    "    * R2 Score: Used to measure how well the variability in price data is explained by the model. The R2 score provides information about how well the predictor variables in the model explain price variations."
   ]
  },
  {
   "cell_type": "markdown",
   "metadata": {},
   "source": [
    "## 7.1 Random Forest "
   ]
  },
  {
   "cell_type": "code",
   "execution_count": 46,
   "metadata": {},
   "outputs": [
    {
     "name": "stdout",
     "output_type": "stream",
     "text": [
      "Random Forest Regressor:\n",
      "Root Mean Squared Error: 42061.08840253896\n",
      "R2 Score: 0.6835877310420518\n"
     ]
    }
   ],
   "source": [
    "# Prediksi menggunakan model Random Forest Regressor\n",
    "y_pred_rf = rf_pipeline.predict(X_test)\n",
    "\n",
    "# Menghitung MSE\n",
    "mse_rf = mean_squared_error(y_test, y_pred_rf)\n",
    "\n",
    "# Menghitung RMSE\n",
    "rmse_rf = np.sqrt(mse_rf)\n",
    "\n",
    "# Menghitung R2 score\n",
    "r2_rf = r2_score(y_test, y_pred_rf)\n",
    "\n",
    "print(\"Random Forest Regressor:\")\n",
    "print(\"Root Mean Squared Error:\", rmse_rf)\n",
    "print(\"R2 Score:\", r2_rf)\n"
   ]
  },
  {
   "cell_type": "markdown",
   "metadata": {},
   "source": [
    "## 7.2 Decision Tree "
   ]
  },
  {
   "cell_type": "code",
   "execution_count": 47,
   "metadata": {},
   "outputs": [
    {
     "name": "stdout",
     "output_type": "stream",
     "text": [
      "Decision Tree Regressor:\n",
      "Root Mean Squared Error: 50931.63177215684\n",
      "R2 Score: 0.536053948559127\n"
     ]
    }
   ],
   "source": [
    "# Prediksi menggunakan model Decision Tree Regressor\n",
    "y_pred_dt = dt_pipeline.predict(X_test)\n",
    "\n",
    "# Menghitung MSE\n",
    "mse_dt = mean_squared_error(y_test, y_pred_dt)\n",
    "\n",
    "# Menghitung RMSE\n",
    "rmse_dt = np.sqrt(mse_dt)\n",
    "\n",
    "# Menghitung R2 score\n",
    "r2_dt = r2_score(y_test, y_pred_dt)\n",
    "\n",
    "print(\"Decision Tree Regressor:\")\n",
    "print(\"Root Mean Squared Error:\", rmse_dt)\n",
    "print(\"R2 Score:\", r2_dt)\n"
   ]
  },
  {
   "cell_type": "markdown",
   "metadata": {},
   "source": [
    "## 7.3 KNN "
   ]
  },
  {
   "cell_type": "code",
   "execution_count": 48,
   "metadata": {},
   "outputs": [
    {
     "name": "stdout",
     "output_type": "stream",
     "text": [
      "KNN Regressor:\n",
      "Root Mean Squared Error: 62446.768933061714\n",
      "R2 Score: 0.3025513361444988\n"
     ]
    }
   ],
   "source": [
    "# Prediksi menggunakan model KNN Regressor\n",
    "y_pred_knn = knn_pipeline.predict(X_test)\n",
    "\n",
    "# Menghitung MSE\n",
    "mse_knn = mean_squared_error(y_test, y_pred_knn)\n",
    "\n",
    "# Menghitung RMSE\n",
    "rmse_knn = np.sqrt(mse_knn)\n",
    "\n",
    "# Menghitung R2 score\n",
    "r2_knn = r2_score(y_test, y_pred_knn)\n",
    "\n",
    "print(\"KNN Regressor:\")\n",
    "print(\"Root Mean Squared Error:\", rmse_knn)\n",
    "print(\"R2 Score:\", r2_knn)\n"
   ]
  },
  {
   "cell_type": "markdown",
   "metadata": {},
   "source": [
    "## 7.4 SVM "
   ]
  },
  {
   "cell_type": "code",
   "execution_count": 49,
   "metadata": {},
   "outputs": [
    {
     "name": "stdout",
     "output_type": "stream",
     "text": [
      "SVR:\n",
      "Root Mean Squared Error: 77029.5830316441\n",
      "R2 Score: -0.06122481278564007\n"
     ]
    }
   ],
   "source": [
    "# Prediksi menggunakan model SVR\n",
    "y_pred_svr = svm_pipeline.predict(X_test)\n",
    "\n",
    "# Menghitung MSE\n",
    "mse_svr = mean_squared_error(y_test, y_pred_svr)\n",
    "\n",
    "# Menghitung RMSE\n",
    "rmse_svr = np.sqrt(mse_svr)\n",
    "\n",
    "# Menghitung R2 score\n",
    "r2_svr = r2_score(y_test, y_pred_svr)\n",
    "\n",
    "print(\"SVR:\")\n",
    "print(\"Root Mean Squared Error:\", rmse_svr)\n",
    "print(\"R2 Score:\", r2_svr)\n"
   ]
  },
  {
   "cell_type": "markdown",
   "metadata": {},
   "source": [
    "## 7.5 XGBoost"
   ]
  },
  {
   "cell_type": "code",
   "execution_count": 50,
   "metadata": {},
   "outputs": [
    {
     "name": "stdout",
     "output_type": "stream",
     "text": [
      "XGBoost Regressor:\n",
      "Root Mean Squared Error: 35915.0793532322\n",
      "R2 Score: 0.7693008669568498\n"
     ]
    }
   ],
   "source": [
    "# Prediksi menggunakan model Random Forest Regressor\n",
    "y_pred_xgb = xgb_pipeline.predict(X_test)\n",
    "\n",
    "# Menghitung MSE\n",
    "mse_xgb = mean_squared_error(y_test, y_pred_xgb)\n",
    "\n",
    "# Menghitung RMSE\n",
    "rmse_xgb = np.sqrt(mse_xgb)\n",
    "\n",
    "# Menghitung R2 score\n",
    "r2_xgb= r2_score(y_test, y_pred_xgb)\n",
    "\n",
    "print(\"XGBoost Regressor:\")\n",
    "print(\"Root Mean Squared Error:\", rmse_xgb)\n",
    "print(\"R2 Score:\", r2_xgb)\n"
   ]
  },
  {
   "cell_type": "markdown",
   "metadata": {},
   "source": [
    "## 7.6 Comparison Cross Validation Before Tuning"
   ]
  },
  {
   "cell_type": "code",
   "execution_count": 51,
   "metadata": {},
   "outputs": [
    {
     "name": "stdout",
     "output_type": "stream",
     "text": [
      "COMPARISON BEFORE TUNING\n",
      "           Model          RMSE  R2 Score\n",
      "0  Random Forest  42061.088403  0.683588\n",
      "1  Decision Tree  50931.631772  0.536054\n",
      "2            KNN  62446.768933  0.302551\n",
      "3            SVR  77029.583032 -0.061225\n",
      "4        XGboost  35915.079353  0.769301\n"
     ]
    }
   ],
   "source": [
    "compar_result = {\n",
    "    'Model': ['Random Forest',  'Decision Tree',  'KNN',  'SVR',  'XGboost'],\n",
    "    'RMSE': [rmse_rf, rmse_dt, rmse_knn,  rmse_svr, rmse_xgb, ],\n",
    "    'R2 Score': [r2_rf, r2_dt, r2_knn,  r2_svr, r2_xgb, ],\n",
    "\n",
    "}\n",
    "\n",
    "compare_result = pd.DataFrame(compar_result)\n",
    "print('COMPARISON BEFORE TUNING')\n",
    "print(compare_result)"
   ]
  },
  {
   "cell_type": "markdown",
   "metadata": {},
   "source": [
    "From the model evaluation results that we provide, it can be seen that XGboost Regressor has the lowest RMSE compared to Decision Tree Regressor, KNN Regressor, and SVR. This shows that on the dataset and modeling we use, XGboost Regressor has better performance in predicting prices."
   ]
  },
  {
   "cell_type": "markdown",
   "metadata": {},
   "source": [
    "# VIII. HYPERPARAMETER TUNING"
   ]
  },
  {
   "cell_type": "markdown",
   "metadata": {},
   "source": [
    "From previous section, we knew that XGBoost is the best base model, so we will process for Hyperparameter Tuning."
   ]
  },
  {
   "cell_type": "markdown",
   "metadata": {},
   "source": [
    "## 8.1 XGBoost Tuning"
   ]
  },
  {
   "cell_type": "code",
   "execution_count": 52,
   "metadata": {},
   "outputs": [
    {
     "name": "stdout",
     "output_type": "stream",
     "text": [
      "XGBoost Tuned Regressor:\n",
      "RMSE: 33550.13036759717\n",
      "R2 Score: 0.7986828720730391\n",
      "\n"
     ]
    }
   ],
   "source": [
    "param_grid_xgboost = {\n",
    "    'xgb__n_estimators': [100, 200, 300],\n",
    "    'xgb__learning_rate': [0.01, 0.1, 0.3],\n",
    "    'xgb__max_depth': [3, 5, 7],\n",
    "    'xgb__colsample_bytree': [0.5, 0.7, 1.0],\n",
    "    'xgb__subsample': [0.5, 0.7, 1.0]\n",
    "}\n",
    "\n",
    "grid_search_xgboost = GridSearchCV(xgb_pipeline, param_grid_xgboost, cv=5, scoring='neg_mean_squared_error', n_jobs=-1)\n",
    "grid_search_xgboost.fit(X_train, y_train)\n",
    "\n",
    "best_xgboost_model = grid_search_xgboost.best_estimator_\n",
    "y_pred_xgboost_tuned = best_xgboost_model.predict(X_test)\n",
    "\n",
    "rmse_xgboost_tuned = np.sqrt(mean_squared_error(y_test, y_pred_xgboost_tuned))\n",
    "r2_xgboost_tuned = r2_score(y_test, y_pred_xgboost_tuned)\n",
    "\n",
    "print(\"XGBoost Tuned Regressor:\")\n",
    "print(f\"RMSE: {rmse_xgboost_tuned}\")\n",
    "print(f\"R2 Score: {r2_xgboost_tuned}\\n\")"
   ]
  },
  {
   "cell_type": "markdown",
   "metadata": {},
   "source": [
    "## 8.2 Comparison Cross Validation After Tuning"
   ]
  },
  {
   "cell_type": "code",
   "execution_count": 53,
   "metadata": {},
   "outputs": [
    {
     "name": "stdout",
     "output_type": "stream",
     "text": [
      "           Model          RMSE  R2 Score\n",
      "0  Random Forest  42061.088403  0.683588\n",
      "1  Decision Tree  50931.631772  0.536054\n",
      "2            KNN  62446.768933  0.302551\n",
      "3            SVR  77029.583032 -0.061225\n",
      "4        XGboost  35915.079353  0.769301\n",
      "5  XGboost Tuned  33550.130368  0.798683\n"
     ]
    }
   ],
   "source": [
    "compar_result2 = {\n",
    "    'Model': ['Random Forest', 'Decision Tree',  'KNN', 'SVR', 'XGboost', 'XGboost Tuned'],\n",
    "    'RMSE': [rmse_rf, rmse_dt, rmse_knn,  rmse_svr, rmse_xgb, rmse_xgboost_tuned],\n",
    "    'R2 Score': [r2_rf, r2_dt, r2_knn, r2_svr,  r2_xgb, r2_xgboost_tuned],\n",
    "\n",
    "}\n",
    "\n",
    "compare_result2 = pd.DataFrame(compar_result2)\n",
    "\n",
    "print(compare_result2)"
   ]
  },
  {
   "cell_type": "markdown",
   "metadata": {},
   "source": []
  },
  {
   "cell_type": "markdown",
   "metadata": {},
   "source": [
    "From the results obtained, the XGBoost Tuned model has the best performance based on both evaluation metrics, namely RMSE and R2 Score. Although the difference with the XGBoost model before tuning is not significant, the hyperparameter tuning results in a slight increase in R2 Score and a slight reduction in RMSE, indicating a small improvement in model performance. So, overall, the hyperparameter-tuned XGBoost model is the best choice among the evaluated models in this case."
   ]
  },
  {
   "cell_type": "markdown",
   "metadata": {},
   "source": [
    "# IX. MODEL SAVING"
   ]
  },
  {
   "cell_type": "code",
   "execution_count": 54,
   "metadata": {},
   "outputs": [],
   "source": [
    "import pickle as pkl\n",
    "with open('best_model.pkl', 'wb') as f:\n",
    "    pkl.dump(best_xgboost_model, f)"
   ]
  },
  {
   "cell_type": "markdown",
   "metadata": {},
   "source": [
    "# X. MODEL INFERENCE\n",
    "Model inference shows in file names `Saudi Arabia Used Car Prediction_inf.ipynb`"
   ]
  },
  {
   "cell_type": "markdown",
   "metadata": {},
   "source": [
    "# XI. CONCLUSION"
   ]
  },
  {
   "cell_type": "markdown",
   "metadata": {},
   "source": [
    "1. Price prediction typically does not depend on a strictly linear relationship. Notwithstanding the possibility of a few factors having a linear relationship with price, relationships between several features and price are frequently complex and non-linear.\n",
    "\n",
    "2. There are numerous factors that can affect the price of a cheap mobile phone, and interactions between these factors might result in nonlinear patterns in the data. In the case of used cars, the price is not only determined by the year of purchase or the number of miles that have already been driven; it can also be affected by the condition, model, merek, and other factors.\n",
    "\n",
    "3. Based on the analysis and literature that I have read, the \n",
    "    * RandomForestRegressor: Suitable for data with complex and varied features and can effectively handle overfitting. However, it may require precise parameter tweaking to achieve ideal work performance.\n",
    "\n",
    "    * KNeighborsRegressor: Suitable for data with local patterns and when nearest neighbors are important in making predictions. However, it is sensitive to the scale of the data and may require further processing such as scaling.\n",
    "\n",
    "    * SVR: Suitable for data with non-linear relationships and when there are outliers in the data. SVR has the flexibility to choose a kernel function that fits our data. However, careful parameter tuning may be required for optimal results.\n",
    "\n",
    "    * DecisionTreeRegressor: Suitable for data with non-linear and complex relationships between features and targets. However, it tends to be prone to overfitting, especially if not well-tuned.\n",
    "\n",
    "4. Used Cross-validation with the RMSE (Root Mean Squared Error) and R2 score (Coefficient of Determination) methods as evaluation metrics because they provide different information about the model's performance in predicting prices:\n",
    "\n",
    "    * RMSE: Used to measure how well the model is at predicting the exact value of the price. RMSE calculates the root of the mean of the squares of the differences between the predicted value and the actual value. The lower the RMSE, the better the model is at accurately predicting prices.\n",
    "\n",
    "    * R2 Score: Used to measure how well the variability in price data is explained by the model. The R2 score provides information about how well the predictor variables in the model explain price variations.\n",
    "5. The best cross validation base model result is XGBoost with an RMSE score of 35915.079353 and an R2 score of 0.769301.\n",
    "    \n",
    "6. The best model results used are Tuned Extreme Gradient Boost (XGBoost) Regression with RMSE score = 33550.130368 and R2 score = 0.798683\n",
    "\n",
    "7. Cross validation results show significant improvements after tuning the XGBoost model. This improvement can be seen from a decrease in RMSE from around 35915 to around 33550, as well as an increase in the R-squared score from around 0.769 to around 0.799. This shows that the tuned XGBoost model is better at predicting prices and explaining price variations in the data."
   ]
  },
  {
   "cell_type": "markdown",
   "metadata": {},
   "source": [
    "# XII. CONCEPTUAL PROBLEM"
   ]
  },
  {
   "cell_type": "markdown",
   "metadata": {},
   "source": [
    "1. Explain the background of bagging and how bagging works! <br>\n",
    "- Bagging Background and How it Works:<br>\n",
    "Bagging (Bootstrap Aggregating) is an ensemble learning technique used to improve the performance of a prediction model by combining several models generated from bootstrap samples from train data.\n",
    "- How bagging works is as follows:\n",
    "    * Create several different train data sets randomly by taking bootstrap samples from the train data.\n",
    "    * Train a base model on each train data set.\n",
    "    * Combines the prediction results from each base model (for example, by averaging for regression or voting for classification) to make a final prediction.\n",
    "\n",
    "2. Explain the difference in how the Random Forest algorithm works and the boosting algorithm you chose!\n",
    "- Difference between Random Forest and Boosting:\n",
    "Random Forest is a type of ensemble learning algorithm that uses bagging techniques to create a number of independent decision trees and combine the results.<br>\n",
    "- Boosting is an ensemble learning technique where models are built sequentially and each subsequent model attempts to correct the errors made by the previous model.\n",
    "- The main difference between Random Forest and Boosting is in the way the models are built. Random Forest builds decision trees independently, while Boosting builds sequential models, with each model focusing on data samples that were difficult to predict by the previous model.\n",
    "\n",
    "3. Explain what is meant by Cross Validation!\n",
    "- Cross Validation is a technique used to evaluate the performance of a machine learning model by dividing data into several subsets, training the model on several subsets, and testing the model on subsets that are not involved in the train data.\n",
    "- The goal of Cross Validation is to get a better estimate of how well a model will perform on data it has never seen before.\n",
    "- Cross Validation steps are:\n",
    "    * Separates data into k subsets of equal size.\n",
    "    * Repeat k iterations, where each iteration uses one subset as test data and the other as training data.\n",
    "    * Calculates evaluation metrics (e.g., accuracy, RMSE) for each iteration.\n",
    "    * Calculates the average of the evaluation metrics to obtain an estimate of overall model performance."
   ]
  }
 ],
 "metadata": {
  "kernelspec": {
   "display_name": "base",
   "language": "python",
   "name": "python3"
  },
  "language_info": {
   "codemirror_mode": {
    "name": "ipython",
    "version": 3
   },
   "file_extension": ".py",
   "mimetype": "text/x-python",
   "name": "python",
   "nbconvert_exporter": "python",
   "pygments_lexer": "ipython3",
   "version": "3.9.18"
  }
 },
 "nbformat": 4,
 "nbformat_minor": 2
}
