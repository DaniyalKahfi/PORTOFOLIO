{
 "cells": [
  {
   "cell_type": "markdown",
   "metadata": {},
   "source": [
    "LINK VISUALISASI TABLEAU : https://public.tableau.com/views/INSYAALLAHFIX/Dashboard1?:language=en-US&publish=yes&:sid=&:display_count=n&:origin=viz_share_link"
   ]
  },
  {
   "cell_type": "markdown",
   "metadata": {},
   "source": [
    "# SMART dan PROBLEM STATEMENT"
   ]
  },
  {
   "cell_type": "markdown",
   "metadata": {},
   "source": [
    "**Case** = Production House A merupakan start up produsen film yang sedang berkembang, dalam proses perintisannya membangun perusahaan mereka ingin membangun portofolio film dengan rating yang lebih tinggi dari rata-rata rating film Indonesia untuk membangun kepercayaan calon investor. Production House A berencana ingin mengetahui karakteristik film Indonesia berdasarkan genre film dan durasi untuk nantinya menjadi bahan acuan mereka untuk membuat film.\n",
    "\n",
    "\n",
    "1. **Specific**: Mengetahui Karakteristik film Indonesia yang memiliki rating diatas rata-rata.\n",
    "\n",
    "<!-- 2. **Measurable**: Menaikkan rating film mereka >= rata-rata rating film indonesia -->\n",
    "\n",
    "3. **Achievable**: Dengan mengetahui rata-rata rating film Indonesia, mengetahui karakteristik film Indonesia yang memiliki rating diatas rata-rata.\n",
    "\n",
    "4. **Relevant**: Mengetahui karakteristik film yang memiliki rating diatas rata-rata dapat menjadi acuan Production House A untuk membuat film\n",
    "\n",
    "5. **Time-Bound**: Q3 pada 2024\n",
    "\n",
    "**Statement** : Mengetahui karakteristik film dengan rating diatas rata-rata dapat menjadi acuan bagi Production House A membuat film yang memiliki rating tinggi sebagai portofolio mereka untuk membangun kepercayaan calon investor.\n",
    "\n",
    "\n",
    "\n",
    "**Problem Statement**: `Mengetahui Karakteristik film Indonesia yang memiliki rating diatas rata-rata`\n",
    "\n",
    "  - Penjabaran masalah dengan metode 5W+1H:\n",
    "\n",
    " 1. Berapa rata-rata rating film Indonesia ? (menggunakan deskriptif)\n",
    " 2. Apa genre film yang memiliki rating diatas rata-rata ?(Menggunakan visualisasi )\n",
    " 3. siapa director film dengan rating diatas rata-rata ? (Menggunakan visualisasi)\n",
    " 4. Berapa range durasi film yang memiliki rating diatas rata-rata? (Menggunakan visualisasi)\n",
    " 5. Pada tahun berapa yang memiliki rating diatas rata-rata?(Menggunakan visualisasi)\n",
    " 6. Apakah genre film memiliki pengaruh terhadap rating? (Menggunakan inferensial)\n",
    " 7. Apakah lama durasi film memiliki pengaruh terhadap rating ? (Menggunakan Inferensial)"
   ]
  },
  {
   "cell_type": "markdown",
   "metadata": {},
   "source": [
    "# DATA LOADING"
   ]
  },
  {
   "cell_type": "code",
   "execution_count": 63,
   "metadata": {},
   "outputs": [
    {
     "data": {
      "text/html": [
       "<div>\n",
       "<style scoped>\n",
       "    .dataframe tbody tr th:only-of-type {\n",
       "        vertical-align: middle;\n",
       "    }\n",
       "\n",
       "    .dataframe tbody tr th {\n",
       "        vertical-align: top;\n",
       "    }\n",
       "\n",
       "    .dataframe thead th {\n",
       "        text-align: right;\n",
       "    }\n",
       "</style>\n",
       "<table border=\"1\" class=\"dataframe\">\n",
       "  <thead>\n",
       "    <tr style=\"text-align: right;\">\n",
       "      <th></th>\n",
       "      <th>title</th>\n",
       "      <th>year</th>\n",
       "      <th>description</th>\n",
       "      <th>genre</th>\n",
       "      <th>rating</th>\n",
       "      <th>users_rating</th>\n",
       "      <th>votes</th>\n",
       "      <th>languages</th>\n",
       "      <th>directors</th>\n",
       "      <th>actors</th>\n",
       "      <th>runtime</th>\n",
       "    </tr>\n",
       "  </thead>\n",
       "  <tbody>\n",
       "    <tr>\n",
       "      <th>0</th>\n",
       "      <td>#FriendButMarried 2</td>\n",
       "      <td>2020</td>\n",
       "      <td>Ayudia (Mawar De Jongh) is not satisfied enoug...</td>\n",
       "      <td>Biography</td>\n",
       "      <td>13+</td>\n",
       "      <td>6.5</td>\n",
       "      <td>120</td>\n",
       "      <td>Indonesian</td>\n",
       "      <td>Rako Prijanto</td>\n",
       "      <td>['Adipati Dolken', 'Mawar Eva de Jongh', 'Vonn...</td>\n",
       "      <td>100 min</td>\n",
       "    </tr>\n",
       "    <tr>\n",
       "      <th>1</th>\n",
       "      <td>4 Mantan</td>\n",
       "      <td>2020</td>\n",
       "      <td>Sara, Airin, Rachel, and Amara were accidental...</td>\n",
       "      <td>Thriller</td>\n",
       "      <td>17+</td>\n",
       "      <td>6.4</td>\n",
       "      <td>8</td>\n",
       "      <td>Indonesian</td>\n",
       "      <td>Hanny Saputra</td>\n",
       "      <td>['Ranty Maria', 'Jeff Smith', 'Melanie Berentz...</td>\n",
       "      <td>80 min</td>\n",
       "    </tr>\n",
       "    <tr>\n",
       "      <th>2</th>\n",
       "      <td>Aku Tahu Kapan Kamu Mati</td>\n",
       "      <td>2020</td>\n",
       "      <td>After apparent death, Siena is able to see sig...</td>\n",
       "      <td>Horror</td>\n",
       "      <td>13+</td>\n",
       "      <td>5.4</td>\n",
       "      <td>17</td>\n",
       "      <td>Indonesian</td>\n",
       "      <td>Hadrah Daeng Ratu</td>\n",
       "      <td>['Natasha Wilona', 'Ria Ricis', 'Al Ghazali', ...</td>\n",
       "      <td>92 min</td>\n",
       "    </tr>\n",
       "    <tr>\n",
       "      <th>3</th>\n",
       "      <td>Anak Garuda</td>\n",
       "      <td>2020</td>\n",
       "      <td>Good Morning Indonesia, a school for poor orph...</td>\n",
       "      <td>Adventure</td>\n",
       "      <td>13+</td>\n",
       "      <td>9.1</td>\n",
       "      <td>27</td>\n",
       "      <td>Indonesian</td>\n",
       "      <td>Faozan Rizal</td>\n",
       "      <td>['Tissa Biani Azzahra', 'Violla Georgie', 'Aji...</td>\n",
       "      <td>129 min</td>\n",
       "    </tr>\n",
       "    <tr>\n",
       "      <th>4</th>\n",
       "      <td>Dignitate</td>\n",
       "      <td>2020</td>\n",
       "      <td>Alfi (Al Ghazali) meets Alana (Caitlin Halderm...</td>\n",
       "      <td>Drama</td>\n",
       "      <td>17+</td>\n",
       "      <td>7.6</td>\n",
       "      <td>33</td>\n",
       "      <td>Indonesian</td>\n",
       "      <td>Fajar Nugros</td>\n",
       "      <td>['Al Ghazali', 'Caitlin Halderman', 'Giorgino ...</td>\n",
       "      <td>109 min</td>\n",
       "    </tr>\n",
       "  </tbody>\n",
       "</table>\n",
       "</div>"
      ],
      "text/plain": [
       "                      title  year  \\\n",
       "0       #FriendButMarried 2  2020   \n",
       "1                  4 Mantan  2020   \n",
       "2  Aku Tahu Kapan Kamu Mati  2020   \n",
       "3               Anak Garuda  2020   \n",
       "4                 Dignitate  2020   \n",
       "\n",
       "                                         description      genre rating  \\\n",
       "0  Ayudia (Mawar De Jongh) is not satisfied enoug...  Biography    13+   \n",
       "1  Sara, Airin, Rachel, and Amara were accidental...   Thriller    17+   \n",
       "2  After apparent death, Siena is able to see sig...     Horror    13+   \n",
       "3  Good Morning Indonesia, a school for poor orph...  Adventure    13+   \n",
       "4  Alfi (Al Ghazali) meets Alana (Caitlin Halderm...      Drama    17+   \n",
       "\n",
       "   users_rating votes   languages          directors  \\\n",
       "0           6.5   120  Indonesian      Rako Prijanto   \n",
       "1           6.4     8  Indonesian      Hanny Saputra   \n",
       "2           5.4    17  Indonesian  Hadrah Daeng Ratu   \n",
       "3           9.1    27  Indonesian       Faozan Rizal   \n",
       "4           7.6    33  Indonesian       Fajar Nugros   \n",
       "\n",
       "                                              actors  runtime  \n",
       "0  ['Adipati Dolken', 'Mawar Eva de Jongh', 'Vonn...  100 min  \n",
       "1  ['Ranty Maria', 'Jeff Smith', 'Melanie Berentz...   80 min  \n",
       "2  ['Natasha Wilona', 'Ria Ricis', 'Al Ghazali', ...   92 min  \n",
       "3  ['Tissa Biani Azzahra', 'Violla Georgie', 'Aji...  129 min  \n",
       "4  ['Al Ghazali', 'Caitlin Halderman', 'Giorgino ...  109 min  "
      ]
     },
     "execution_count": 63,
     "metadata": {},
     "output_type": "execute_result"
    }
   ],
   "source": [
    "import pandas as pd\n",
    "\n",
    "# lokasi file \n",
    "file_path = \"/Users/daniyalkahfi/Desktop/Data/Milestone 1/indonesian_movies.csv\"\n",
    "\n",
    "# Baca file CSV menjadi DataFrame\n",
    "df = pd.read_csv(file_path)\n",
    "\n",
    "# Tampilkan beberapa baris pertama dari DataFrame\n",
    "df.head()\n"
   ]
  },
  {
   "cell_type": "code",
   "execution_count": 64,
   "metadata": {},
   "outputs": [
    {
     "name": "stdout",
     "output_type": "stream",
     "text": [
      "<class 'pandas.core.frame.DataFrame'>\n",
      "RangeIndex: 1272 entries, 0 to 1271\n",
      "Data columns (total 11 columns):\n",
      " #   Column        Non-Null Count  Dtype  \n",
      "---  ------        --------------  -----  \n",
      " 0   title         1272 non-null   object \n",
      " 1   year          1272 non-null   int64  \n",
      " 2   description   840 non-null    object \n",
      " 3   genre         1236 non-null   object \n",
      " 4   rating        376 non-null    object \n",
      " 5   users_rating  1272 non-null   float64\n",
      " 6   votes         1272 non-null   object \n",
      " 7   languages     1272 non-null   object \n",
      " 8   directors     1265 non-null   object \n",
      " 9   actors        1272 non-null   object \n",
      " 10  runtime       869 non-null    object \n",
      "dtypes: float64(1), int64(1), object(9)\n",
      "memory usage: 109.4+ KB\n"
     ]
    }
   ],
   "source": [
    "#Mendapatkan Informasi dari dataframe\n",
    "df.info()"
   ]
  },
  {
   "cell_type": "markdown",
   "metadata": {},
   "source": [
    "Dari informasi dataset diketahui bahwa ada 1272 data dengan 11 kolom. Terdapat juga missing value pada beberapa kolom yang perlu dihapus (kecuali description) dan perubahan tipe data yang sesuai dengan peruntukannya"
   ]
  },
  {
   "cell_type": "markdown",
   "metadata": {},
   "source": [
    "# DATA CLEANING"
   ]
  },
  {
   "cell_type": "markdown",
   "metadata": {},
   "source": [
    "### Merubah Nama Kolom"
   ]
  },
  {
   "cell_type": "code",
   "execution_count": 65,
   "metadata": {},
   "outputs": [
    {
     "data": {
      "text/html": [
       "<div>\n",
       "<style scoped>\n",
       "    .dataframe tbody tr th:only-of-type {\n",
       "        vertical-align: middle;\n",
       "    }\n",
       "\n",
       "    .dataframe tbody tr th {\n",
       "        vertical-align: top;\n",
       "    }\n",
       "\n",
       "    .dataframe thead th {\n",
       "        text-align: right;\n",
       "    }\n",
       "</style>\n",
       "<table border=\"1\" class=\"dataframe\">\n",
       "  <thead>\n",
       "    <tr style=\"text-align: right;\">\n",
       "      <th></th>\n",
       "      <th>title</th>\n",
       "      <th>year</th>\n",
       "      <th>description</th>\n",
       "      <th>genre</th>\n",
       "      <th>rating</th>\n",
       "      <th>users_rating</th>\n",
       "      <th>votes</th>\n",
       "      <th>languages</th>\n",
       "      <th>directors</th>\n",
       "      <th>actors</th>\n",
       "      <th>duration</th>\n",
       "    </tr>\n",
       "  </thead>\n",
       "  <tbody>\n",
       "    <tr>\n",
       "      <th>0</th>\n",
       "      <td>#FriendButMarried 2</td>\n",
       "      <td>2020</td>\n",
       "      <td>Ayudia (Mawar De Jongh) is not satisfied enoug...</td>\n",
       "      <td>Biography</td>\n",
       "      <td>13+</td>\n",
       "      <td>6.5</td>\n",
       "      <td>120</td>\n",
       "      <td>Indonesian</td>\n",
       "      <td>Rako Prijanto</td>\n",
       "      <td>['Adipati Dolken', 'Mawar Eva de Jongh', 'Vonn...</td>\n",
       "      <td>100 min</td>\n",
       "    </tr>\n",
       "    <tr>\n",
       "      <th>1</th>\n",
       "      <td>4 Mantan</td>\n",
       "      <td>2020</td>\n",
       "      <td>Sara, Airin, Rachel, and Amara were accidental...</td>\n",
       "      <td>Thriller</td>\n",
       "      <td>17+</td>\n",
       "      <td>6.4</td>\n",
       "      <td>8</td>\n",
       "      <td>Indonesian</td>\n",
       "      <td>Hanny Saputra</td>\n",
       "      <td>['Ranty Maria', 'Jeff Smith', 'Melanie Berentz...</td>\n",
       "      <td>80 min</td>\n",
       "    </tr>\n",
       "    <tr>\n",
       "      <th>2</th>\n",
       "      <td>Aku Tahu Kapan Kamu Mati</td>\n",
       "      <td>2020</td>\n",
       "      <td>After apparent death, Siena is able to see sig...</td>\n",
       "      <td>Horror</td>\n",
       "      <td>13+</td>\n",
       "      <td>5.4</td>\n",
       "      <td>17</td>\n",
       "      <td>Indonesian</td>\n",
       "      <td>Hadrah Daeng Ratu</td>\n",
       "      <td>['Natasha Wilona', 'Ria Ricis', 'Al Ghazali', ...</td>\n",
       "      <td>92 min</td>\n",
       "    </tr>\n",
       "    <tr>\n",
       "      <th>3</th>\n",
       "      <td>Anak Garuda</td>\n",
       "      <td>2020</td>\n",
       "      <td>Good Morning Indonesia, a school for poor orph...</td>\n",
       "      <td>Adventure</td>\n",
       "      <td>13+</td>\n",
       "      <td>9.1</td>\n",
       "      <td>27</td>\n",
       "      <td>Indonesian</td>\n",
       "      <td>Faozan Rizal</td>\n",
       "      <td>['Tissa Biani Azzahra', 'Violla Georgie', 'Aji...</td>\n",
       "      <td>129 min</td>\n",
       "    </tr>\n",
       "    <tr>\n",
       "      <th>4</th>\n",
       "      <td>Dignitate</td>\n",
       "      <td>2020</td>\n",
       "      <td>Alfi (Al Ghazali) meets Alana (Caitlin Halderm...</td>\n",
       "      <td>Drama</td>\n",
       "      <td>17+</td>\n",
       "      <td>7.6</td>\n",
       "      <td>33</td>\n",
       "      <td>Indonesian</td>\n",
       "      <td>Fajar Nugros</td>\n",
       "      <td>['Al Ghazali', 'Caitlin Halderman', 'Giorgino ...</td>\n",
       "      <td>109 min</td>\n",
       "    </tr>\n",
       "  </tbody>\n",
       "</table>\n",
       "</div>"
      ],
      "text/plain": [
       "                      title  year  \\\n",
       "0       #FriendButMarried 2  2020   \n",
       "1                  4 Mantan  2020   \n",
       "2  Aku Tahu Kapan Kamu Mati  2020   \n",
       "3               Anak Garuda  2020   \n",
       "4                 Dignitate  2020   \n",
       "\n",
       "                                         description      genre rating  \\\n",
       "0  Ayudia (Mawar De Jongh) is not satisfied enoug...  Biography    13+   \n",
       "1  Sara, Airin, Rachel, and Amara were accidental...   Thriller    17+   \n",
       "2  After apparent death, Siena is able to see sig...     Horror    13+   \n",
       "3  Good Morning Indonesia, a school for poor orph...  Adventure    13+   \n",
       "4  Alfi (Al Ghazali) meets Alana (Caitlin Halderm...      Drama    17+   \n",
       "\n",
       "   users_rating votes   languages          directors  \\\n",
       "0           6.5   120  Indonesian      Rako Prijanto   \n",
       "1           6.4     8  Indonesian      Hanny Saputra   \n",
       "2           5.4    17  Indonesian  Hadrah Daeng Ratu   \n",
       "3           9.1    27  Indonesian       Faozan Rizal   \n",
       "4           7.6    33  Indonesian       Fajar Nugros   \n",
       "\n",
       "                                              actors duration  \n",
       "0  ['Adipati Dolken', 'Mawar Eva de Jongh', 'Vonn...  100 min  \n",
       "1  ['Ranty Maria', 'Jeff Smith', 'Melanie Berentz...   80 min  \n",
       "2  ['Natasha Wilona', 'Ria Ricis', 'Al Ghazali', ...   92 min  \n",
       "3  ['Tissa Biani Azzahra', 'Violla Georgie', 'Aji...  129 min  \n",
       "4  ['Al Ghazali', 'Caitlin Halderman', 'Giorgino ...  109 min  "
      ]
     },
     "execution_count": 65,
     "metadata": {},
     "output_type": "execute_result"
    }
   ],
   "source": [
    "# merubah nama kolom agar lebih mudah dipahami\n",
    "df = df.rename(columns = {'runtime' : 'duration'})\n",
    "df.head()"
   ]
  },
  {
   "cell_type": "markdown",
   "metadata": {},
   "source": [
    "### Handling Missing Value"
   ]
  },
  {
   "cell_type": "code",
   "execution_count": 66,
   "metadata": {},
   "outputs": [
    {
     "data": {
      "text/plain": [
       "title             0\n",
       "year              0\n",
       "description     432\n",
       "genre            36\n",
       "rating          896\n",
       "users_rating      0\n",
       "votes             0\n",
       "languages         0\n",
       "directors         7\n",
       "actors            0\n",
       "duration        403\n",
       "dtype: int64"
      ]
     },
     "execution_count": 66,
     "metadata": {},
     "output_type": "execute_result"
    }
   ],
   "source": [
    "# Mengecek missing value dari dataframe\n",
    "df.isnull().sum()"
   ]
  },
  {
   "cell_type": "code",
   "execution_count": 67,
   "metadata": {},
   "outputs": [
    {
     "data": {
      "text/plain": [
       "title            0\n",
       "year             0\n",
       "description     14\n",
       "genre            0\n",
       "rating           0\n",
       "users_rating     0\n",
       "votes            0\n",
       "languages        0\n",
       "directors        0\n",
       "actors           0\n",
       "duration         0\n",
       "dtype: int64"
      ]
     },
     "execution_count": 67,
     "metadata": {},
     "output_type": "execute_result"
    }
   ],
   "source": [
    "# menghapus missing value pada kolom genre dan duration\n",
    "df = df.dropna(subset=['genre', 'duration', 'directors', 'rating'])\n",
    "df.isnull().sum()"
   ]
  },
  {
   "cell_type": "markdown",
   "metadata": {},
   "source": [
    "tidak dilakukan handling missing value pada kolom description karena kolom tersebut tidak berpengaruh terhadap pengolahan data statistik. Hanya dijadikan bahan pendukung dalam memahami dataset"
   ]
  },
  {
   "cell_type": "markdown",
   "metadata": {},
   "source": [
    "### Penyesuaian Data Types"
   ]
  },
  {
   "cell_type": "code",
   "execution_count": 68,
   "metadata": {},
   "outputs": [
    {
     "data": {
      "text/plain": [
       "title            object\n",
       "year              int64\n",
       "description      object\n",
       "genre            object\n",
       "rating           object\n",
       "users_rating    float64\n",
       "votes            object\n",
       "languages        object\n",
       "directors        object\n",
       "actors           object\n",
       "duration         object\n",
       "dtype: object"
      ]
     },
     "execution_count": 68,
     "metadata": {},
     "output_type": "execute_result"
    }
   ],
   "source": [
    "#mengecek tipe data setiap kolom\n",
    "df.dtypes"
   ]
  },
  {
   "cell_type": "markdown",
   "metadata": {},
   "source": [
    "### Drop Kolom yang Tidak Relevan"
   ]
  },
  {
   "cell_type": "code",
   "execution_count": 69,
   "metadata": {},
   "outputs": [],
   "source": [
    "#menghapus kolom rating dan votes\n",
    "df.drop(columns=['rating', 'votes'], inplace=True)"
   ]
  },
  {
   "cell_type": "markdown",
   "metadata": {},
   "source": [
    "### Penghapusan Karakter Serta Merubah Tipe Data"
   ]
  },
  {
   "cell_type": "code",
   "execution_count": 70,
   "metadata": {},
   "outputs": [
    {
     "data": {
      "text/plain": [
       "title                       object\n",
       "year                datetime64[ns]\n",
       "description                 object\n",
       "genre                       object\n",
       "rating                     float64\n",
       "languages                   object\n",
       "directors                   object\n",
       "actors                      object\n",
       "duration_minutes             int64\n",
       "dtype: object"
      ]
     },
     "execution_count": 70,
     "metadata": {},
     "output_type": "execute_result"
    }
   ],
   "source": [
    "#Merubah tipe data duration menjadi integer\n",
    "df['duration'] = df['duration'].str.replace(' min', '').astype(int)\n",
    "#Merubah tipe data year menjadi datetime\n",
    "df['year'] = pd.to_datetime(df['year'], format='%Y')\n",
    "\n",
    "\n",
    "#merubah nama kolom duration agar diketahui dalam satuan minutes\n",
    "df.rename(columns={'users_rating' : 'rating','duration': 'duration_minutes'}, inplace=True)\n",
    "df.dtypes\n"
   ]
  },
  {
   "cell_type": "markdown",
   "metadata": {},
   "source": [
    "### Duplicates Value Checking"
   ]
  },
  {
   "cell_type": "code",
   "execution_count": 71,
   "metadata": {},
   "outputs": [
    {
     "data": {
      "text/plain": [
       "0"
      ]
     },
     "execution_count": 71,
     "metadata": {},
     "output_type": "execute_result"
    }
   ],
   "source": [
    "# mengecek data duplikat\n",
    "df.duplicated().sum()"
   ]
  },
  {
   "cell_type": "markdown",
   "metadata": {},
   "source": [
    "tidak adanya data duplikat pada dataframe"
   ]
  },
  {
   "cell_type": "markdown",
   "metadata": {},
   "source": [
    "### Filter Data Berdardasarkan Tahun >= 2005"
   ]
  },
  {
   "cell_type": "code",
   "execution_count": 72,
   "metadata": {},
   "outputs": [
    {
     "name": "stdout",
     "output_type": "stream",
     "text": [
      "<class 'pandas.core.frame.DataFrame'>\n",
      "Index: 289 entries, 0 to 969\n",
      "Data columns (total 9 columns):\n",
      " #   Column            Non-Null Count  Dtype         \n",
      "---  ------            --------------  -----         \n",
      " 0   title             289 non-null    object        \n",
      " 1   year              289 non-null    datetime64[ns]\n",
      " 2   description       276 non-null    object        \n",
      " 3   genre             289 non-null    object        \n",
      " 4   rating            289 non-null    float64       \n",
      " 5   languages         289 non-null    object        \n",
      " 6   directors         289 non-null    object        \n",
      " 7   actors            289 non-null    object        \n",
      " 8   duration_minutes  289 non-null    int64         \n",
      "dtypes: datetime64[ns](1), float64(1), int64(1), object(6)\n",
      "memory usage: 22.6+ KB\n"
     ]
    }
   ],
   "source": [
    "# Dilakukan filter data year mulai dari tahun 2005, karena dataset memuat film dari tahun 1980. \n",
    "# Data menjadi tidak valid jika range tahun terlalu jauh, karena teknologi perfilman sebelum tahun 2000 masih terlalu kuno dibanding sekarang\n",
    "\n",
    "df = df[df['year'].dt.year >= 2005]\n",
    "df.info()"
   ]
  },
  {
   "cell_type": "markdown",
   "metadata": {},
   "source": [
    "Dilakukan filter data agar data yang didapatkan lebih valid karena dalam dataset tahun rilis film sejak 1980 - 2020. Rentang tahun yang terlalu memiliki gap teknologi film yang terlalu usang. Selain itu, preferensi penonton juga sudah jauh berubah dibandingkan film pada tahun 1980"
   ]
  },
  {
   "cell_type": "markdown",
   "metadata": {},
   "source": [
    "### Menambahkan Kolom Duration Category"
   ]
  },
  {
   "cell_type": "code",
   "execution_count": 73,
   "metadata": {},
   "outputs": [
    {
     "name": "stdout",
     "output_type": "stream",
     "text": [
      "181\n",
      "71\n",
      "27.5\n"
     ]
    }
   ],
   "source": [
    "# Perencanaan Pembagian range waktu\n",
    "dur_max = df['duration_minutes'].max()\n",
    "dur_min = df['duration_minutes'].min()\n",
    "dur_diff = df['duration_minutes'].max() - df['duration_minutes'].min()\n",
    "print (dur_max)\n",
    "print (dur_min)\n",
    "print (dur_diff/4)"
   ]
  },
  {
   "cell_type": "code",
   "execution_count": 74,
   "metadata": {},
   "outputs": [
    {
     "data": {
      "text/html": [
       "<div>\n",
       "<style scoped>\n",
       "    .dataframe tbody tr th:only-of-type {\n",
       "        vertical-align: middle;\n",
       "    }\n",
       "\n",
       "    .dataframe tbody tr th {\n",
       "        vertical-align: top;\n",
       "    }\n",
       "\n",
       "    .dataframe thead th {\n",
       "        text-align: right;\n",
       "    }\n",
       "</style>\n",
       "<table border=\"1\" class=\"dataframe\">\n",
       "  <thead>\n",
       "    <tr style=\"text-align: right;\">\n",
       "      <th></th>\n",
       "      <th>title</th>\n",
       "      <th>year</th>\n",
       "      <th>description</th>\n",
       "      <th>genre</th>\n",
       "      <th>rating</th>\n",
       "      <th>languages</th>\n",
       "      <th>directors</th>\n",
       "      <th>actors</th>\n",
       "      <th>duration_minutes</th>\n",
       "      <th>duration_category</th>\n",
       "    </tr>\n",
       "  </thead>\n",
       "  <tbody>\n",
       "    <tr>\n",
       "      <th>0</th>\n",
       "      <td>#FriendButMarried 2</td>\n",
       "      <td>2020-01-01</td>\n",
       "      <td>Ayudia (Mawar De Jongh) is not satisfied enoug...</td>\n",
       "      <td>Biography</td>\n",
       "      <td>6.5</td>\n",
       "      <td>Indonesian</td>\n",
       "      <td>Rako Prijanto</td>\n",
       "      <td>['Adipati Dolken', 'Mawar Eva de Jongh', 'Vonn...</td>\n",
       "      <td>100</td>\n",
       "      <td>70-100</td>\n",
       "    </tr>\n",
       "    <tr>\n",
       "      <th>1</th>\n",
       "      <td>4 Mantan</td>\n",
       "      <td>2020-01-01</td>\n",
       "      <td>Sara, Airin, Rachel, and Amara were accidental...</td>\n",
       "      <td>Thriller</td>\n",
       "      <td>6.4</td>\n",
       "      <td>Indonesian</td>\n",
       "      <td>Hanny Saputra</td>\n",
       "      <td>['Ranty Maria', 'Jeff Smith', 'Melanie Berentz...</td>\n",
       "      <td>80</td>\n",
       "      <td>70-100</td>\n",
       "    </tr>\n",
       "    <tr>\n",
       "      <th>2</th>\n",
       "      <td>Aku Tahu Kapan Kamu Mati</td>\n",
       "      <td>2020-01-01</td>\n",
       "      <td>After apparent death, Siena is able to see sig...</td>\n",
       "      <td>Horror</td>\n",
       "      <td>5.4</td>\n",
       "      <td>Indonesian</td>\n",
       "      <td>Hadrah Daeng Ratu</td>\n",
       "      <td>['Natasha Wilona', 'Ria Ricis', 'Al Ghazali', ...</td>\n",
       "      <td>92</td>\n",
       "      <td>70-100</td>\n",
       "    </tr>\n",
       "    <tr>\n",
       "      <th>3</th>\n",
       "      <td>Anak Garuda</td>\n",
       "      <td>2020-01-01</td>\n",
       "      <td>Good Morning Indonesia, a school for poor orph...</td>\n",
       "      <td>Adventure</td>\n",
       "      <td>9.1</td>\n",
       "      <td>Indonesian</td>\n",
       "      <td>Faozan Rizal</td>\n",
       "      <td>['Tissa Biani Azzahra', 'Violla Georgie', 'Aji...</td>\n",
       "      <td>129</td>\n",
       "      <td>101-130</td>\n",
       "    </tr>\n",
       "    <tr>\n",
       "      <th>4</th>\n",
       "      <td>Dignitate</td>\n",
       "      <td>2020-01-01</td>\n",
       "      <td>Alfi (Al Ghazali) meets Alana (Caitlin Halderm...</td>\n",
       "      <td>Drama</td>\n",
       "      <td>7.6</td>\n",
       "      <td>Indonesian</td>\n",
       "      <td>Fajar Nugros</td>\n",
       "      <td>['Al Ghazali', 'Caitlin Halderman', 'Giorgino ...</td>\n",
       "      <td>109</td>\n",
       "      <td>101-130</td>\n",
       "    </tr>\n",
       "    <tr>\n",
       "      <th>...</th>\n",
       "      <td>...</td>\n",
       "      <td>...</td>\n",
       "      <td>...</td>\n",
       "      <td>...</td>\n",
       "      <td>...</td>\n",
       "      <td>...</td>\n",
       "      <td>...</td>\n",
       "      <td>...</td>\n",
       "      <td>...</td>\n",
       "      <td>...</td>\n",
       "    </tr>\n",
       "    <tr>\n",
       "      <th>916</th>\n",
       "      <td>Malam Jumat Kliwon</td>\n",
       "      <td>2007-01-01</td>\n",
       "      <td>NaN</td>\n",
       "      <td>Horror</td>\n",
       "      <td>2.2</td>\n",
       "      <td>Indonesian</td>\n",
       "      <td>Nayato Fio Nuala</td>\n",
       "      <td>['Daffy Ariaga', 'Abimana Aryasatya', 'Nadiah ...</td>\n",
       "      <td>90</td>\n",
       "      <td>70-100</td>\n",
       "    </tr>\n",
       "    <tr>\n",
       "      <th>919</th>\n",
       "      <td>Miracle: Menantang Maut</td>\n",
       "      <td>2007-01-01</td>\n",
       "      <td>Kinar got alphabetic code KITA MATI that indic...</td>\n",
       "      <td>Horror</td>\n",
       "      <td>3.6</td>\n",
       "      <td>Indonesian</td>\n",
       "      <td>Helfi C.H. Kardit</td>\n",
       "      <td>['Abimana Aryasatya', 'Ivy Batuta', 'Nadila Er...</td>\n",
       "      <td>98</td>\n",
       "      <td>70-100</td>\n",
       "    </tr>\n",
       "    <tr>\n",
       "      <th>933</th>\n",
       "      <td>9 Naga</td>\n",
       "      <td>2006-01-01</td>\n",
       "      <td>Three friends since childhood earn a living by...</td>\n",
       "      <td>Crime</td>\n",
       "      <td>6.5</td>\n",
       "      <td>Indonesian</td>\n",
       "      <td>Rudy Soedjarwo</td>\n",
       "      <td>['Donny Alamsyah', 'Fauzi Baadila', 'Dorman Bo...</td>\n",
       "      <td>104</td>\n",
       "      <td>101-130</td>\n",
       "    </tr>\n",
       "    <tr>\n",
       "      <th>953</th>\n",
       "      <td>Pocong 2</td>\n",
       "      <td>2006-01-01</td>\n",
       "      <td>Two sisters find themselves haunted by an evil...</td>\n",
       "      <td>Horror</td>\n",
       "      <td>6.5</td>\n",
       "      <td>Indonesian</td>\n",
       "      <td>Rudy Soedjarwo</td>\n",
       "      <td>['Revalina S. Temat', 'Ringgo Agus Rahman', 'H...</td>\n",
       "      <td>98</td>\n",
       "      <td>70-100</td>\n",
       "    </tr>\n",
       "    <tr>\n",
       "      <th>969</th>\n",
       "      <td>Mirror</td>\n",
       "      <td>2005-01-01</td>\n",
       "      <td>A high school girl named Kikan began to see de...</td>\n",
       "      <td>Horror</td>\n",
       "      <td>6.9</td>\n",
       "      <td>Indonesian</td>\n",
       "      <td>Hanny Saputra</td>\n",
       "      <td>['Nirina Zubir', 'Jonathan Lesmana', 'Ichi Nur...</td>\n",
       "      <td>112</td>\n",
       "      <td>101-130</td>\n",
       "    </tr>\n",
       "  </tbody>\n",
       "</table>\n",
       "<p>289 rows × 10 columns</p>\n",
       "</div>"
      ],
      "text/plain": [
       "                        title       year  \\\n",
       "0         #FriendButMarried 2 2020-01-01   \n",
       "1                    4 Mantan 2020-01-01   \n",
       "2    Aku Tahu Kapan Kamu Mati 2020-01-01   \n",
       "3                 Anak Garuda 2020-01-01   \n",
       "4                   Dignitate 2020-01-01   \n",
       "..                        ...        ...   \n",
       "916        Malam Jumat Kliwon 2007-01-01   \n",
       "919   Miracle: Menantang Maut 2007-01-01   \n",
       "933                    9 Naga 2006-01-01   \n",
       "953                  Pocong 2 2006-01-01   \n",
       "969                    Mirror 2005-01-01   \n",
       "\n",
       "                                           description      genre  rating  \\\n",
       "0    Ayudia (Mawar De Jongh) is not satisfied enoug...  Biography     6.5   \n",
       "1    Sara, Airin, Rachel, and Amara were accidental...   Thriller     6.4   \n",
       "2    After apparent death, Siena is able to see sig...     Horror     5.4   \n",
       "3    Good Morning Indonesia, a school for poor orph...  Adventure     9.1   \n",
       "4    Alfi (Al Ghazali) meets Alana (Caitlin Halderm...      Drama     7.6   \n",
       "..                                                 ...        ...     ...   \n",
       "916                                                NaN     Horror     2.2   \n",
       "919  Kinar got alphabetic code KITA MATI that indic...     Horror     3.6   \n",
       "933  Three friends since childhood earn a living by...      Crime     6.5   \n",
       "953  Two sisters find themselves haunted by an evil...     Horror     6.5   \n",
       "969  A high school girl named Kikan began to see de...     Horror     6.9   \n",
       "\n",
       "      languages          directors  \\\n",
       "0    Indonesian      Rako Prijanto   \n",
       "1    Indonesian      Hanny Saputra   \n",
       "2    Indonesian  Hadrah Daeng Ratu   \n",
       "3    Indonesian       Faozan Rizal   \n",
       "4    Indonesian       Fajar Nugros   \n",
       "..          ...                ...   \n",
       "916  Indonesian   Nayato Fio Nuala   \n",
       "919  Indonesian  Helfi C.H. Kardit   \n",
       "933  Indonesian     Rudy Soedjarwo   \n",
       "953  Indonesian     Rudy Soedjarwo   \n",
       "969  Indonesian      Hanny Saputra   \n",
       "\n",
       "                                                actors  duration_minutes  \\\n",
       "0    ['Adipati Dolken', 'Mawar Eva de Jongh', 'Vonn...               100   \n",
       "1    ['Ranty Maria', 'Jeff Smith', 'Melanie Berentz...                80   \n",
       "2    ['Natasha Wilona', 'Ria Ricis', 'Al Ghazali', ...                92   \n",
       "3    ['Tissa Biani Azzahra', 'Violla Georgie', 'Aji...               129   \n",
       "4    ['Al Ghazali', 'Caitlin Halderman', 'Giorgino ...               109   \n",
       "..                                                 ...               ...   \n",
       "916  ['Daffy Ariaga', 'Abimana Aryasatya', 'Nadiah ...                90   \n",
       "919  ['Abimana Aryasatya', 'Ivy Batuta', 'Nadila Er...                98   \n",
       "933  ['Donny Alamsyah', 'Fauzi Baadila', 'Dorman Bo...               104   \n",
       "953  ['Revalina S. Temat', 'Ringgo Agus Rahman', 'H...                98   \n",
       "969  ['Nirina Zubir', 'Jonathan Lesmana', 'Ichi Nur...               112   \n",
       "\n",
       "    duration_category  \n",
       "0              70-100  \n",
       "1              70-100  \n",
       "2              70-100  \n",
       "3             101-130  \n",
       "4             101-130  \n",
       "..                ...  \n",
       "916            70-100  \n",
       "919            70-100  \n",
       "933           101-130  \n",
       "953            70-100  \n",
       "969           101-130  \n",
       "\n",
       "[289 rows x 10 columns]"
      ]
     },
     "execution_count": 74,
     "metadata": {},
     "output_type": "execute_result"
    }
   ],
   "source": [
    "# Klasifikasi duration_minutes ke dalam 4 kategori dengan range 70 sampai 200 dengan kelipatan 30 menit\n",
    "df['duration_category'] = pd.cut(df['duration_minutes'], bins=[70, 100, 130, 160, 200], labels=['70-100', '101-130', '131-160', '161-190'])\n",
    "\n",
    "df"
   ]
  },
  {
   "cell_type": "markdown",
   "metadata": {},
   "source": [
    "# ANALISIS DAN PERHITUNGAN"
   ]
  },
  {
   "cell_type": "code",
   "execution_count": 75,
   "metadata": {},
   "outputs": [],
   "source": [
    "from scipy.stats import f_oneway\n",
    "from scipy.stats import spearmanr"
   ]
  },
  {
   "cell_type": "markdown",
   "metadata": {},
   "source": [
    "### Berapa rata-rata rating film Indonesia ? (menggunakan deskriptif)"
   ]
  },
  {
   "cell_type": "code",
   "execution_count": 76,
   "metadata": {},
   "outputs": [
    {
     "name": "stdout",
     "output_type": "stream",
     "text": [
      "Mean dari rating film Indonesia adalah : 6.35\n",
      "Median dari rating film Indonesia adalah : 6.6\n",
      "Modus dari rating film Indonesia adalah : 7.0\n",
      "Standar Deviasi dari rating adalah : 1.43\n"
     ]
    }
   ],
   "source": [
    "mean_rating= df['rating'].mean().round(2)\n",
    "median_rating= df['rating'].median().round(2)\n",
    "modus_rating= df['rating'].mode()[0]\n",
    "std_rating = df['rating'].std().round(2)\n",
    "\n",
    "print('Mean dari rating film Indonesia adalah :', mean_rating)\n",
    "print('Median dari rating film Indonesia adalah :', median_rating)\n",
    "print('Modus dari rating film Indonesia adalah :', modus_rating)\n",
    "print('Standar Deviasi dari rating adalah :', std_rating)"
   ]
  },
  {
   "cell_type": "markdown",
   "metadata": {},
   "source": [
    "Data rating terindikasi tidak terdistribusi normal, karena mean dan mediannya tidak sama."
   ]
  },
  {
   "cell_type": "code",
   "execution_count": 77,
   "metadata": {},
   "outputs": [
    {
     "name": "stdout",
     "output_type": "stream",
     "text": [
      "rating tertinggi film Indonesia adalah =  9.4\n"
     ]
    }
   ],
   "source": [
    "# Mencari nilai rating tertinggi\n",
    "max_rating = df['rating'].max()\n",
    "print ('rating tertinggi film Indonesia adalah = ', max_rating)"
   ]
  },
  {
   "cell_type": "markdown",
   "metadata": {},
   "source": [
    "### Apakah genre film memiliki pengaruh terhadap rating? (Menggunakan inferensial)"
   ]
  },
  {
   "cell_type": "markdown",
   "metadata": {},
   "source": [
    "Mengetahui tipe distribusi rating"
   ]
  },
  {
   "cell_type": "code",
   "execution_count": 78,
   "metadata": {},
   "outputs": [
    {
     "name": "stdout",
     "output_type": "stream",
     "text": [
      "Skewness pada rating : -1.0035265238346442\n",
      "Kurtosis pada rating : 1.1553072654601517\n"
     ]
    }
   ],
   "source": [
    "print(\"Skewness pada rating :\", df['rating'].skew())\n",
    "print(\"Kurtosis pada rating :\", df['rating'].kurtosis())"
   ]
  },
  {
   "cell_type": "markdown",
   "metadata": {},
   "source": [
    "Data rating tidak terdistribusi normal karena memiliki skewness negatif dan kurtosis != 0"
   ]
  },
  {
   "cell_type": "code",
   "execution_count": 79,
   "metadata": {},
   "outputs": [
    {
     "name": "stdout",
     "output_type": "stream",
     "text": [
      "Korelasi spearmanr: -0.2028340493815295\n",
      "Nilai p-value: 0.0005216862035069283\n",
      "Terdapat korelasi yang signifikan antara genre dan rating.\n"
     ]
    }
   ],
   "source": [
    "# Menghitung korelasi Pearson antara genre dan rating\n",
    "# menggunakan pearson karena data tidak terdistribusi normal\n",
    "rho, p_value = spearmanr(df['genre'], df['rating'])\n",
    "\n",
    "print(\"Korelasi spearmanr:\", rho)\n",
    "print(\"Nilai p-value:\", p_value)\n",
    "\n",
    "if p_value < 0.05:\n",
    "    print(\"Terdapat korelasi yang signifikan antara genre dan rating.\")\n",
    "else:\n",
    "    print(\"Tidak terdapat korelasi yang signifikan antara genre dan rating.\")\n",
    "\n"
   ]
  },
  {
   "cell_type": "markdown",
   "metadata": {},
   "source": [
    "- H0 = Genre film TIDAK BERPENGARUH terhadap Rating\n",
    "- H1 = Genre film BERPENGARUH terhadap Rating\n",
    "- Dari hasil nilai korelasi spearmanr <= 0 dan p-value < 0,05 maka, H1 diterima (Genre film mempengaruhi rating)"
   ]
  },
  {
   "cell_type": "markdown",
   "metadata": {},
   "source": [
    "## Apakah durasi film memiliki pengaruh terhadap rating ? (Menggunakan Inferensial)"
   ]
  },
  {
   "cell_type": "code",
   "execution_count": 80,
   "metadata": {},
   "outputs": [
    {
     "name": "stdout",
     "output_type": "stream",
     "text": [
      "Korelasi spearmanr: 0.330108098068919\n",
      "Nilai p-value: 8.951449848385369e-09\n",
      "Terdapat korelasi yang signifikan antara duration_minutes dan rating.\n"
     ]
    }
   ],
   "source": [
    "# Menghitung korelasi Pearson antara duration_minutes dan rating\n",
    "# menggunakan pearson karena data tidak terdistribusi normal\n",
    "rho, p_value = spearmanr(df['duration_minutes'], df['rating'])\n",
    "\n",
    "print(\"Korelasi spearmanr:\", rho)\n",
    "print(\"Nilai p-value:\", p_value)\n",
    "\n",
    "if p_value < 0.05:\n",
    "    print(\"Terdapat korelasi yang signifikan antara duration_minutes dan rating.\")\n",
    "else:\n",
    "    print(\"Tidak terdapat korelasi yang signifikan antara duration_minutes dan rating.\")\n",
    "\n"
   ]
  },
  {
   "cell_type": "markdown",
   "metadata": {},
   "source": [
    "- H0 = Durasi film TIDAK BERPENGARUH terhadap rating\n",
    "- H1 = Durasi film BERPENGARUH terhadap rating\n",
    "- Dari hasil nilai korelasi spearmanr <= 0 dan p-value < 0,05 maka, H1 diterima (Durasi Film MEMPENGARUHI Rating)"
   ]
  },
  {
   "cell_type": "markdown",
   "metadata": {},
   "source": [
    "## MENJADIKAN DATAFRAME SEBAGAI FILE CSV"
   ]
  },
  {
   "cell_type": "code",
   "execution_count": 81,
   "metadata": {},
   "outputs": [],
   "source": [
    "df.to_csv('Data_Cleaned_Film_edit.csv')"
   ]
  },
  {
   "cell_type": "code",
   "execution_count": 82,
   "metadata": {},
   "outputs": [
    {
     "data": {
      "text/html": [
       "<div>\n",
       "<style scoped>\n",
       "    .dataframe tbody tr th:only-of-type {\n",
       "        vertical-align: middle;\n",
       "    }\n",
       "\n",
       "    .dataframe tbody tr th {\n",
       "        vertical-align: top;\n",
       "    }\n",
       "\n",
       "    .dataframe thead th {\n",
       "        text-align: right;\n",
       "    }\n",
       "</style>\n",
       "<table border=\"1\" class=\"dataframe\">\n",
       "  <thead>\n",
       "    <tr style=\"text-align: right;\">\n",
       "      <th></th>\n",
       "      <th>title</th>\n",
       "      <th>year</th>\n",
       "      <th>description</th>\n",
       "      <th>genre</th>\n",
       "      <th>rating</th>\n",
       "      <th>languages</th>\n",
       "      <th>directors</th>\n",
       "      <th>actors</th>\n",
       "      <th>duration_minutes</th>\n",
       "      <th>duration_category</th>\n",
       "    </tr>\n",
       "  </thead>\n",
       "  <tbody>\n",
       "    <tr>\n",
       "      <th>0</th>\n",
       "      <td>#FriendButMarried 2</td>\n",
       "      <td>2020-01-01</td>\n",
       "      <td>Ayudia (Mawar De Jongh) is not satisfied enoug...</td>\n",
       "      <td>Biography</td>\n",
       "      <td>6.5</td>\n",
       "      <td>Indonesian</td>\n",
       "      <td>Rako Prijanto</td>\n",
       "      <td>['Adipati Dolken', 'Mawar Eva de Jongh', 'Vonn...</td>\n",
       "      <td>100</td>\n",
       "      <td>70-100</td>\n",
       "    </tr>\n",
       "    <tr>\n",
       "      <th>1</th>\n",
       "      <td>4 Mantan</td>\n",
       "      <td>2020-01-01</td>\n",
       "      <td>Sara, Airin, Rachel, and Amara were accidental...</td>\n",
       "      <td>Thriller</td>\n",
       "      <td>6.4</td>\n",
       "      <td>Indonesian</td>\n",
       "      <td>Hanny Saputra</td>\n",
       "      <td>['Ranty Maria', 'Jeff Smith', 'Melanie Berentz...</td>\n",
       "      <td>80</td>\n",
       "      <td>70-100</td>\n",
       "    </tr>\n",
       "    <tr>\n",
       "      <th>2</th>\n",
       "      <td>Aku Tahu Kapan Kamu Mati</td>\n",
       "      <td>2020-01-01</td>\n",
       "      <td>After apparent death, Siena is able to see sig...</td>\n",
       "      <td>Horror</td>\n",
       "      <td>5.4</td>\n",
       "      <td>Indonesian</td>\n",
       "      <td>Hadrah Daeng Ratu</td>\n",
       "      <td>['Natasha Wilona', 'Ria Ricis', 'Al Ghazali', ...</td>\n",
       "      <td>92</td>\n",
       "      <td>70-100</td>\n",
       "    </tr>\n",
       "    <tr>\n",
       "      <th>3</th>\n",
       "      <td>Anak Garuda</td>\n",
       "      <td>2020-01-01</td>\n",
       "      <td>Good Morning Indonesia, a school for poor orph...</td>\n",
       "      <td>Adventure</td>\n",
       "      <td>9.1</td>\n",
       "      <td>Indonesian</td>\n",
       "      <td>Faozan Rizal</td>\n",
       "      <td>['Tissa Biani Azzahra', 'Violla Georgie', 'Aji...</td>\n",
       "      <td>129</td>\n",
       "      <td>101-130</td>\n",
       "    </tr>\n",
       "    <tr>\n",
       "      <th>4</th>\n",
       "      <td>Dignitate</td>\n",
       "      <td>2020-01-01</td>\n",
       "      <td>Alfi (Al Ghazali) meets Alana (Caitlin Halderm...</td>\n",
       "      <td>Drama</td>\n",
       "      <td>7.6</td>\n",
       "      <td>Indonesian</td>\n",
       "      <td>Fajar Nugros</td>\n",
       "      <td>['Al Ghazali', 'Caitlin Halderman', 'Giorgino ...</td>\n",
       "      <td>109</td>\n",
       "      <td>101-130</td>\n",
       "    </tr>\n",
       "  </tbody>\n",
       "</table>\n",
       "</div>"
      ],
      "text/plain": [
       "                      title       year  \\\n",
       "0       #FriendButMarried 2 2020-01-01   \n",
       "1                  4 Mantan 2020-01-01   \n",
       "2  Aku Tahu Kapan Kamu Mati 2020-01-01   \n",
       "3               Anak Garuda 2020-01-01   \n",
       "4                 Dignitate 2020-01-01   \n",
       "\n",
       "                                         description      genre  rating  \\\n",
       "0  Ayudia (Mawar De Jongh) is not satisfied enoug...  Biography     6.5   \n",
       "1  Sara, Airin, Rachel, and Amara were accidental...   Thriller     6.4   \n",
       "2  After apparent death, Siena is able to see sig...     Horror     5.4   \n",
       "3  Good Morning Indonesia, a school for poor orph...  Adventure     9.1   \n",
       "4  Alfi (Al Ghazali) meets Alana (Caitlin Halderm...      Drama     7.6   \n",
       "\n",
       "    languages          directors  \\\n",
       "0  Indonesian      Rako Prijanto   \n",
       "1  Indonesian      Hanny Saputra   \n",
       "2  Indonesian  Hadrah Daeng Ratu   \n",
       "3  Indonesian       Faozan Rizal   \n",
       "4  Indonesian       Fajar Nugros   \n",
       "\n",
       "                                              actors  duration_minutes  \\\n",
       "0  ['Adipati Dolken', 'Mawar Eva de Jongh', 'Vonn...               100   \n",
       "1  ['Ranty Maria', 'Jeff Smith', 'Melanie Berentz...                80   \n",
       "2  ['Natasha Wilona', 'Ria Ricis', 'Al Ghazali', ...                92   \n",
       "3  ['Tissa Biani Azzahra', 'Violla Georgie', 'Aji...               129   \n",
       "4  ['Al Ghazali', 'Caitlin Halderman', 'Giorgino ...               109   \n",
       "\n",
       "  duration_category  \n",
       "0            70-100  \n",
       "1            70-100  \n",
       "2            70-100  \n",
       "3           101-130  \n",
       "4           101-130  "
      ]
     },
     "execution_count": 82,
     "metadata": {},
     "output_type": "execute_result"
    }
   ],
   "source": [
    "df.head()"
   ]
  },
  {
   "cell_type": "markdown",
   "metadata": {},
   "source": [
    "# KESIMPULAN"
   ]
  },
  {
   "cell_type": "markdown",
   "metadata": {},
   "source": [
    "1. Rating film Indonesia dari tahun 2005 - 2020 memiliki rata-rata 6.35. Untuk itu, Production House A harus membuat film dengan target rating > 6.35.\n",
    "2. Film dengan Genre Romance, History, Biography, Drama, Crime, dan Comedy memiliki rating diata rata-rata film Indonesia. Romance menjadi film dengan genre tertinggi dengan nilai 7.0. Production House A dapat memilih salah satu dari genre tersebut dalam produksi film selanjutnya.\n",
    "3. Directors film dengan rata-rata rating tertinggi adalah Ihdar Nur dengan nilai 8.8. Production House A dapat menjadikan karya-karya Ihdar Nur sebagai acuan dalam pembuatan film, seperti pola cara penulisan cerita, penyampaian cerita, teknik pengambilan video, dan cara memasarkan karya-karyanya.\n",
    "4. Film dengan rentang durasi 161-190 menit menjadi film dengan rata-rata rating terbaik dengan nilai 7,1. Dalam rentang durasi tersebut sebuah film dapat disampaikan ceritanya dengan baik, alur cerita tidak terlalu cepat/lambat dan penonton tidak lelah untuk menikmati serta memahami makna film sampai akhir.\n",
    "4. Karya-karya film pada tahun 2016 menjadi rata-rata rating terbaik dengan nilai 7.0. Film yang rilis pada tahun tersebut banyak yang disukai penikmat film Indonesia. Production House A dapat menjadikan referensi film-film di tahun 2016 sebagai acuan dalam pembuatan film.\n",
    "5. Berdasarkan perhitungan statistik inferensial dengan metode Spearman, didapatkan hasil Korelasi spearmanr: -0.2028340493815295 dan Nilai p-value: 0.0005216862035069283. Artinya, pemilihan genre film berpengaruh signifikan terhadap rating yang akan didapatkan. Berdasarkan informasi sebelumnya, penikmat film Indonesia paling menyukai film dengan genre Romance, jadi Production House A disarankan membuat film dengan genre Romance agar peluang mendapatkan rating diatas rata-rata menjadi lebih besar.\n",
    "6. Dilakukan pula pengujian korelasi antara rating dengan duration film. Hasil uji Korelasi spearmanr: 0.330108098068919 dan Nilai p-value: 8.951449848385369e-09. Artinya, penentuan duration film berkorelasi terhadap rating. Dari data sebelumnya, penikmat film Indonesia menyukai film dengan rentang waktu 161-190 menit. Dengan rentang waktu tersebut, film dapat menyampaikan cerita dengan detail, runut, dan tidak membuat penonton lelah/bosan karena terlalu menonton. \n"
   ]
  },
  {
   "cell_type": "markdown",
   "metadata": {},
   "source": [
    "### STATEMENT DAN INSIGHT"
   ]
  },
  {
   "cell_type": "markdown",
   "metadata": {},
   "source": [
    "Dalam usaha membuat film dengan rating diatas rata-rata Film Indonesia (6,35)Production House A disarankan membuat film dengan genre Romance dengan durasi 161-190 menit, serta dalam proses pembuatannya dapat menjadikan karya-karya milik director Ihdar Nur dan film-film yang rilis pada tahun 2016 sebagai acuan pola penulisan cerita, penyampaian cerita, teknik pengambilan video, dan cara memasarkan karya-karyanya."
   ]
  }
 ],
 "metadata": {
  "kernelspec": {
   "display_name": "base",
   "language": "python",
   "name": "python3"
  },
  "language_info": {
   "codemirror_mode": {
    "name": "ipython",
    "version": 3
   },
   "file_extension": ".py",
   "mimetype": "text/x-python",
   "name": "python",
   "nbconvert_exporter": "python",
   "pygments_lexer": "ipython3",
   "version": "3.9.18"
  }
 },
 "nbformat": 4,
 "nbformat_minor": 2
}
